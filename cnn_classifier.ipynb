{
  "nbformat": 4,
  "nbformat_minor": 0,
  "metadata": {
    "kernelspec": {
      "name": "python3",
      "display_name": "Python 3"
    },
    "language_info": {
      "codemirror_mode": {
        "name": "ipython",
        "version": 3
      },
      "file_extension": ".py",
      "mimetype": "text/x-python",
      "name": "python",
      "nbconvert_exporter": "python",
      "pygments_lexer": "ipython3",
      "version": "3.7.1"
    },
    "colab": {
      "name": "cnn-classifier.ipynb",
      "provenance": [],
      "collapsed_sections": [],
      "toc_visible": true
    },
    "accelerator": "GPU"
  },
  "cells": [
    {
      "cell_type": "code",
      "metadata": {
        "id": "XXMrKKXbbith",
        "colab_type": "code",
        "outputId": "189aa6f4-45ec-417e-8166-e747c9ab088c",
        "colab": {
          "base_uri": "https://localhost:8080/",
          "height": 1000
        }
      },
      "source": [
        "!pip install tensorflow-gpu"
      ],
      "execution_count": 0,
      "outputs": [
        {
          "output_type": "stream",
          "text": [
            "Collecting tensorflow-gpu\n",
            "\u001b[?25l  Downloading https://files.pythonhosted.org/packages/0a/93/c7bca39b23aae45cd2e85ad3871c81eccc63b9c5276e926511e2e5b0879d/tensorflow_gpu-2.1.0-cp36-cp36m-manylinux2010_x86_64.whl (421.8MB)\n",
            "\u001b[K     |████████████████████████████████| 421.8MB 42kB/s \n",
            "\u001b[?25hRequirement already satisfied: six>=1.12.0 in /usr/local/lib/python3.6/dist-packages (from tensorflow-gpu) (1.12.0)\n",
            "Requirement already satisfied: protobuf>=3.8.0 in /usr/local/lib/python3.6/dist-packages (from tensorflow-gpu) (3.10.0)\n",
            "Requirement already satisfied: termcolor>=1.1.0 in /usr/local/lib/python3.6/dist-packages (from tensorflow-gpu) (1.1.0)\n",
            "Requirement already satisfied: keras-applications>=1.0.8 in /usr/local/lib/python3.6/dist-packages (from tensorflow-gpu) (1.0.8)\n",
            "Requirement already satisfied: opt-einsum>=2.3.2 in /usr/local/lib/python3.6/dist-packages (from tensorflow-gpu) (3.2.1)\n",
            "Requirement already satisfied: astor>=0.6.0 in /usr/local/lib/python3.6/dist-packages (from tensorflow-gpu) (0.8.1)\n",
            "Requirement already satisfied: keras-preprocessing>=1.1.0 in /usr/local/lib/python3.6/dist-packages (from tensorflow-gpu) (1.1.0)\n",
            "Collecting gast==0.2.2\n",
            "  Downloading https://files.pythonhosted.org/packages/4e/35/11749bf99b2d4e3cceb4d55ca22590b0d7c2c62b9de38ac4a4a7f4687421/gast-0.2.2.tar.gz\n",
            "Collecting tensorboard<2.2.0,>=2.1.0\n",
            "\u001b[?25l  Downloading https://files.pythonhosted.org/packages/d9/41/bbf49b61370e4f4d245d4c6051dfb6db80cec672605c91b1652ac8cc3d38/tensorboard-2.1.1-py3-none-any.whl (3.8MB)\n",
            "\u001b[K     |████████████████████████████████| 3.9MB 49.6MB/s \n",
            "\u001b[?25hRequirement already satisfied: wheel>=0.26; python_version >= \"3\" in /usr/local/lib/python3.6/dist-packages (from tensorflow-gpu) (0.34.2)\n",
            "Requirement already satisfied: scipy==1.4.1; python_version >= \"3\" in /usr/local/lib/python3.6/dist-packages (from tensorflow-gpu) (1.4.1)\n",
            "Requirement already satisfied: numpy<2.0,>=1.16.0 in /usr/local/lib/python3.6/dist-packages (from tensorflow-gpu) (1.18.3)\n",
            "Collecting tensorflow-estimator<2.2.0,>=2.1.0rc0\n",
            "\u001b[?25l  Downloading https://files.pythonhosted.org/packages/18/90/b77c328a1304437ab1310b463e533fa7689f4bfc41549593056d812fab8e/tensorflow_estimator-2.1.0-py2.py3-none-any.whl (448kB)\n",
            "\u001b[K     |████████████████████████████████| 450kB 53.3MB/s \n",
            "\u001b[?25hRequirement already satisfied: google-pasta>=0.1.6 in /usr/local/lib/python3.6/dist-packages (from tensorflow-gpu) (0.2.0)\n",
            "Requirement already satisfied: grpcio>=1.8.6 in /usr/local/lib/python3.6/dist-packages (from tensorflow-gpu) (1.28.1)\n",
            "Requirement already satisfied: absl-py>=0.7.0 in /usr/local/lib/python3.6/dist-packages (from tensorflow-gpu) (0.9.0)\n",
            "Requirement already satisfied: wrapt>=1.11.1 in /usr/local/lib/python3.6/dist-packages (from tensorflow-gpu) (1.12.1)\n",
            "Requirement already satisfied: setuptools in /usr/local/lib/python3.6/dist-packages (from protobuf>=3.8.0->tensorflow-gpu) (46.1.3)\n",
            "Requirement already satisfied: h5py in /usr/local/lib/python3.6/dist-packages (from keras-applications>=1.0.8->tensorflow-gpu) (2.10.0)\n",
            "Requirement already satisfied: werkzeug>=0.11.15 in /usr/local/lib/python3.6/dist-packages (from tensorboard<2.2.0,>=2.1.0->tensorflow-gpu) (1.0.1)\n",
            "Requirement already satisfied: google-auth<2,>=1.6.3 in /usr/local/lib/python3.6/dist-packages (from tensorboard<2.2.0,>=2.1.0->tensorflow-gpu) (1.7.2)\n",
            "Requirement already satisfied: requests<3,>=2.21.0 in /usr/local/lib/python3.6/dist-packages (from tensorboard<2.2.0,>=2.1.0->tensorflow-gpu) (2.23.0)\n",
            "Requirement already satisfied: google-auth-oauthlib<0.5,>=0.4.1 in /usr/local/lib/python3.6/dist-packages (from tensorboard<2.2.0,>=2.1.0->tensorflow-gpu) (0.4.1)\n",
            "Requirement already satisfied: markdown>=2.6.8 in /usr/local/lib/python3.6/dist-packages (from tensorboard<2.2.0,>=2.1.0->tensorflow-gpu) (3.2.1)\n",
            "Requirement already satisfied: rsa<4.1,>=3.1.4 in /usr/local/lib/python3.6/dist-packages (from google-auth<2,>=1.6.3->tensorboard<2.2.0,>=2.1.0->tensorflow-gpu) (4.0)\n",
            "Requirement already satisfied: pyasn1-modules>=0.2.1 in /usr/local/lib/python3.6/dist-packages (from google-auth<2,>=1.6.3->tensorboard<2.2.0,>=2.1.0->tensorflow-gpu) (0.2.8)\n",
            "Requirement already satisfied: cachetools<3.2,>=2.0.0 in /usr/local/lib/python3.6/dist-packages (from google-auth<2,>=1.6.3->tensorboard<2.2.0,>=2.1.0->tensorflow-gpu) (3.1.1)\n",
            "Requirement already satisfied: chardet<4,>=3.0.2 in /usr/local/lib/python3.6/dist-packages (from requests<3,>=2.21.0->tensorboard<2.2.0,>=2.1.0->tensorflow-gpu) (3.0.4)\n",
            "Requirement already satisfied: certifi>=2017.4.17 in /usr/local/lib/python3.6/dist-packages (from requests<3,>=2.21.0->tensorboard<2.2.0,>=2.1.0->tensorflow-gpu) (2020.4.5.1)\n",
            "Requirement already satisfied: urllib3!=1.25.0,!=1.25.1,<1.26,>=1.21.1 in /usr/local/lib/python3.6/dist-packages (from requests<3,>=2.21.0->tensorboard<2.2.0,>=2.1.0->tensorflow-gpu) (1.24.3)\n",
            "Requirement already satisfied: idna<3,>=2.5 in /usr/local/lib/python3.6/dist-packages (from requests<3,>=2.21.0->tensorboard<2.2.0,>=2.1.0->tensorflow-gpu) (2.9)\n",
            "Requirement already satisfied: requests-oauthlib>=0.7.0 in /usr/local/lib/python3.6/dist-packages (from google-auth-oauthlib<0.5,>=0.4.1->tensorboard<2.2.0,>=2.1.0->tensorflow-gpu) (1.3.0)\n",
            "Requirement already satisfied: pyasn1>=0.1.3 in /usr/local/lib/python3.6/dist-packages (from rsa<4.1,>=3.1.4->google-auth<2,>=1.6.3->tensorboard<2.2.0,>=2.1.0->tensorflow-gpu) (0.4.8)\n",
            "Requirement already satisfied: oauthlib>=3.0.0 in /usr/local/lib/python3.6/dist-packages (from requests-oauthlib>=0.7.0->google-auth-oauthlib<0.5,>=0.4.1->tensorboard<2.2.0,>=2.1.0->tensorflow-gpu) (3.1.0)\n",
            "Building wheels for collected packages: gast\n",
            "  Building wheel for gast (setup.py) ... \u001b[?25l\u001b[?25hdone\n",
            "  Created wheel for gast: filename=gast-0.2.2-cp36-none-any.whl size=7540 sha256=294b05b583a8ab1e2da63e548ec0d75b75ca5b1c7f61c943572a7e661ea6d080\n",
            "  Stored in directory: /root/.cache/pip/wheels/5c/2e/7e/a1d4d4fcebe6c381f378ce7743a3ced3699feb89bcfbdadadd\n",
            "Successfully built gast\n",
            "\u001b[31mERROR: tensorflow 2.2.0rc3 has requirement gast==0.3.3, but you'll have gast 0.2.2 which is incompatible.\u001b[0m\n",
            "\u001b[31mERROR: tensorflow 2.2.0rc3 has requirement tensorboard<2.3.0,>=2.2.0, but you'll have tensorboard 2.1.1 which is incompatible.\u001b[0m\n",
            "\u001b[31mERROR: tensorflow 2.2.0rc3 has requirement tensorflow-estimator<2.3.0,>=2.2.0rc0, but you'll have tensorflow-estimator 2.1.0 which is incompatible.\u001b[0m\n",
            "\u001b[31mERROR: tensorflow-probability 0.10.0rc0 has requirement gast>=0.3.2, but you'll have gast 0.2.2 which is incompatible.\u001b[0m\n",
            "Installing collected packages: gast, tensorboard, tensorflow-estimator, tensorflow-gpu\n",
            "  Found existing installation: gast 0.3.3\n",
            "    Uninstalling gast-0.3.3:\n",
            "      Successfully uninstalled gast-0.3.3\n",
            "  Found existing installation: tensorboard 2.2.1\n",
            "    Uninstalling tensorboard-2.2.1:\n",
            "      Successfully uninstalled tensorboard-2.2.1\n",
            "  Found existing installation: tensorflow-estimator 2.2.0\n",
            "    Uninstalling tensorflow-estimator-2.2.0:\n",
            "      Successfully uninstalled tensorflow-estimator-2.2.0\n",
            "Successfully installed gast-0.2.2 tensorboard-2.1.1 tensorflow-estimator-2.1.0 tensorflow-gpu-2.1.0\n"
          ],
          "name": "stdout"
        }
      ]
    },
    {
      "cell_type": "code",
      "metadata": {
        "id": "G-iNc6SNbspi",
        "colab_type": "code",
        "outputId": "9bf9ef51-ce89-4afb-d9f5-bae78aac594f",
        "colab": {
          "base_uri": "https://localhost:8080/",
          "height": 122
        }
      },
      "source": [
        "from google.colab import drive\n",
        "drive.mount('/gdrive')"
      ],
      "execution_count": 0,
      "outputs": [
        {
          "output_type": "stream",
          "text": [
            "Go to this URL in a browser: https://accounts.google.com/o/oauth2/auth?client_id=947318989803-6bn6qk8qdgf4n4g3pfee6491hc0brc4i.apps.googleusercontent.com&redirect_uri=urn%3aietf%3awg%3aoauth%3a2.0%3aoob&response_type=code&scope=email%20https%3a%2f%2fwww.googleapis.com%2fauth%2fdocs.test%20https%3a%2f%2fwww.googleapis.com%2fauth%2fdrive%20https%3a%2f%2fwww.googleapis.com%2fauth%2fdrive.photos.readonly%20https%3a%2f%2fwww.googleapis.com%2fauth%2fpeopleapi.readonly\n",
            "\n",
            "Enter your authorization code:\n",
            "··········\n",
            "Mounted at /gdrive\n"
          ],
          "name": "stdout"
        }
      ]
    },
    {
      "cell_type": "code",
      "metadata": {
        "id": "rHbqgJMUS0UX",
        "colab_type": "code",
        "colab": {}
      },
      "source": [
        "import tensorflow as tf\n",
        "import cv2\n",
        "import matplotlib.pyplot as plt\n",
        "from tensorflow.keras.layers import *\n",
        "from tensorflow.keras.preprocessing.image import ImageDataGenerator\n",
        "%matplotlib inline\n",
        "import os"
      ],
      "execution_count": 0,
      "outputs": []
    },
    {
      "cell_type": "code",
      "metadata": {
        "id": "nfwkVxPQcGVh",
        "colab_type": "code",
        "colab": {}
      },
      "source": [
        "url_train = '/gdrive/My Drive/sisrec/training'\n",
        "url_test = '/gdrive/My Drive/sisrec/test'\n",
        "urlPath = '/gdrive/My Drive/sisrec'"
      ],
      "execution_count": 0,
      "outputs": []
    },
    {
      "cell_type": "markdown",
      "metadata": {
        "id": "ZHLCpWStmqCs",
        "colab_type": "text"
      },
      "source": [
        "## RESHAPE IMAGE INTO SQUARE\n",
        "\n",
        "Measure that your data is square image, if not please do some image processing"
      ]
    },
    {
      "cell_type": "code",
      "metadata": {
        "id": "9U5FVlclS0Ug",
        "colab_type": "code",
        "colab": {}
      },
      "source": [
        "im_size = (256, 256)\n",
        "im_size2 = (256, 256, 3)"
      ],
      "execution_count": 0,
      "outputs": []
    },
    {
      "cell_type": "code",
      "metadata": {
        "id": "UwPXiL73cyz6",
        "colab_type": "code",
        "colab": {}
      },
      "source": [
        "from tensorflow.keras import Sequential"
      ],
      "execution_count": 0,
      "outputs": []
    },
    {
      "cell_type": "markdown",
      "metadata": {
        "id": "bGq3TRkwmifU",
        "colab_type": "text"
      },
      "source": [
        "## GENERATE DATATRAIN"
      ]
    },
    {
      "cell_type": "code",
      "metadata": {
        "id": "QmWlmLB1S0Uj",
        "colab_type": "code",
        "outputId": "75886417-b14e-447e-ad88-2810c8b746e1",
        "colab": {
          "base_uri": "https://localhost:8080/",
          "height": 34
        }
      },
      "source": [
        "datagen = ImageDataGenerator(\n",
        "    rescale = 1./255,\n",
        "    width_shift_range = 0.2, height_shift_range = 0.2,\n",
        "    zoom_range = 0.2\n",
        ")\n",
        "# Gvfet data from folder\n",
        "data_train = datagen.flow_from_directory(url_train,\n",
        "                                         target_size = im_size,\n",
        "                                         batch_size = 100,\n",
        "                                         class_mode = 'categorical'\n",
        "                                         )\n",
        "\n"
      ],
      "execution_count": 0,
      "outputs": [
        {
          "output_type": "stream",
          "text": [
            "Found 840 images belonging to 2 classes.\n"
          ],
          "name": "stdout"
        }
      ]
    },
    {
      "cell_type": "code",
      "metadata": {
        "id": "tGLWVSz5S0Um",
        "colab_type": "code",
        "outputId": "fb31e4f5-f824-44a4-9c70-823a46ef2e37",
        "colab": {
          "base_uri": "https://localhost:8080/",
          "height": 34
        }
      },
      "source": [
        "data_train.class_indices"
      ],
      "execution_count": 0,
      "outputs": [
        {
          "output_type": "execute_result",
          "data": {
            "text/plain": [
              "{'Laki-laki': 0, 'Perempuan': 1}"
            ]
          },
          "metadata": {
            "tags": []
          },
          "execution_count": 8
        }
      ]
    },
    {
      "cell_type": "markdown",
      "metadata": {
        "id": "KWTmZeYimd5j",
        "colab_type": "text"
      },
      "source": [
        "## CNN ARCHITECTURE\n"
      ]
    },
    {
      "cell_type": "code",
      "metadata": {
        "id": "c7zztgyWS0Us",
        "colab_type": "code",
        "colab": {}
      },
      "source": [
        "model = Sequential([\n",
        "        Conv2D(32, 3, padding = 'same', activation = 'relu', input_shape = im_size2),\n",
        "        MaxPool2D(),                                            \n",
        "        Conv2D(64, 3, padding = 'same', activation = 'relu'),\n",
        "        MaxPool2D(),                                            \n",
        "        Conv2D(128, 3, padding = 'same', activation = 'relu'),\n",
        "        MaxPool2D(),\n",
        "        Conv2D(256, 5, padding = 'same', activation = 'relu'),\n",
        "        MaxPool2D(),\n",
        "        Conv2D(512, 5, padding = 'same', activation = 'relu'),\n",
        "        GlobalAveragePooling2D(),\n",
        "        Dense(512, activation='relu'),\n",
        "        Dropout(0.5),\n",
        "        Dense(data_train.num_classes, activation='sigmoid')\n",
        "])\n",
        "\n",
        "model.compile(loss='binary_crossentropy', optimizer='adam', metrics=['accuracy'])"
      ],
      "execution_count": 0,
      "outputs": []
    },
    {
      "cell_type": "markdown",
      "metadata": {
        "id": "R4DzMD_Ym9Wl",
        "colab_type": "text"
      },
      "source": [
        "### Make some checkpoint during training"
      ]
    },
    {
      "cell_type": "code",
      "metadata": {
        "id": "g7ZV5VdYdcSo",
        "colab_type": "code",
        "colab": {}
      },
      "source": [
        "checkpoint_path = \"/gdrive/My Drive/sisrec/cp.ckpt\"\n",
        "checkpoint_dir = os.path.dirname(checkpoint_path)\n",
        "\n",
        "# Create a callback that saves the model's weights\n",
        "cp_callback = tf.keras.callbacks.ModelCheckpoint(filepath=checkpoint_path,\n",
        "                                                 save_weights_only=True,\n",
        "                                                 verbose=1)"
      ],
      "execution_count": 0,
      "outputs": []
    },
    {
      "cell_type": "code",
      "metadata": {
        "id": "oHm-mGvAS0Uv",
        "colab_type": "code",
        "outputId": "eb7cf71f-44ec-4f3a-ff4c-288ff91168f6",
        "colab": {
          "base_uri": "https://localhost:8080/",
          "height": 1000
        }
      },
      "source": [
        "history = model.fit_generator(data_train, epochs = 100, callbacks=[cp_callback])"
      ],
      "execution_count": 0,
      "outputs": [
        {
          "output_type": "stream",
          "text": [
            "WARNING:tensorflow:sample_weight modes were coerced from\n",
            "  ...\n",
            "    to  \n",
            "  ['...']\n",
            "Train for 9 steps\n",
            "Epoch 1/100\n",
            "8/9 [=========================>....] - ETA: 39s - loss: 0.6973 - accuracy: 0.5041 \n",
            "Epoch 00001: saving model to /gdrive/My Drive/sisrec/cp.ckpt\n",
            "9/9 [==============================] - 365s 41s/step - loss: 0.6969 - accuracy: 0.5012\n",
            "Epoch 2/100\n",
            "8/9 [=========================>....] - ETA: 1s - loss: 0.6943 - accuracy: 0.5068\n",
            "Epoch 00002: saving model to /gdrive/My Drive/sisrec/cp.ckpt\n",
            "9/9 [==============================] - 14s 2s/step - loss: 0.6939 - accuracy: 0.5089\n",
            "Epoch 3/100\n",
            "8/9 [=========================>....] - ETA: 1s - loss: 0.6909 - accuracy: 0.5338\n",
            "Epoch 00003: saving model to /gdrive/My Drive/sisrec/cp.ckpt\n",
            "9/9 [==============================] - 14s 2s/step - loss: 0.6908 - accuracy: 0.5435\n",
            "Epoch 4/100\n",
            "8/9 [=========================>....] - ETA: 1s - loss: 0.6800 - accuracy: 0.5716\n",
            "Epoch 00004: saving model to /gdrive/My Drive/sisrec/cp.ckpt\n",
            "9/9 [==============================] - 13s 1s/step - loss: 0.6888 - accuracy: 0.5702\n",
            "Epoch 5/100\n",
            "8/9 [=========================>....] - ETA: 1s - loss: 0.6921 - accuracy: 0.5230\n",
            "Epoch 00005: saving model to /gdrive/My Drive/sisrec/cp.ckpt\n",
            "9/9 [==============================] - 14s 2s/step - loss: 0.6912 - accuracy: 0.5280\n",
            "Epoch 6/100\n",
            "8/9 [=========================>....] - ETA: 1s - loss: 0.6892 - accuracy: 0.5628\n",
            "Epoch 00006: saving model to /gdrive/My Drive/sisrec/cp.ckpt\n",
            "9/9 [==============================] - 14s 2s/step - loss: 0.6891 - accuracy: 0.5554\n",
            "Epoch 7/100\n",
            "8/9 [=========================>....] - ETA: 1s - loss: 0.6857 - accuracy: 0.5601\n",
            "Epoch 00007: saving model to /gdrive/My Drive/sisrec/cp.ckpt\n",
            "9/9 [==============================] - 14s 2s/step - loss: 0.6859 - accuracy: 0.5542\n",
            "Epoch 8/100\n",
            "8/9 [=========================>....] - ETA: 1s - loss: 0.6823 - accuracy: 0.5845\n",
            "Epoch 00008: saving model to /gdrive/My Drive/sisrec/cp.ckpt\n",
            "9/9 [==============================] - 14s 2s/step - loss: 0.6826 - accuracy: 0.5786\n",
            "Epoch 9/100\n",
            "8/9 [=========================>....] - ETA: 1s - loss: 0.6854 - accuracy: 0.5622\n",
            "Epoch 00009: saving model to /gdrive/My Drive/sisrec/cp.ckpt\n",
            "9/9 [==============================] - 14s 2s/step - loss: 0.6838 - accuracy: 0.5720\n",
            "Epoch 10/100\n",
            "8/9 [=========================>....] - ETA: 1s - loss: 0.6663 - accuracy: 0.6061\n",
            "Epoch 00010: saving model to /gdrive/My Drive/sisrec/cp.ckpt\n",
            "9/9 [==============================] - 14s 2s/step - loss: 0.6637 - accuracy: 0.6095\n",
            "Epoch 11/100\n",
            "8/9 [=========================>....] - ETA: 1s - loss: 0.6598 - accuracy: 0.6162\n",
            "Epoch 00011: saving model to /gdrive/My Drive/sisrec/cp.ckpt\n",
            "9/9 [==============================] - 14s 2s/step - loss: 0.6634 - accuracy: 0.6131\n",
            "Epoch 12/100\n",
            "8/9 [=========================>....] - ETA: 1s - loss: 0.6695 - accuracy: 0.5939\n",
            "Epoch 00012: saving model to /gdrive/My Drive/sisrec/cp.ckpt\n",
            "9/9 [==============================] - 14s 2s/step - loss: 0.6710 - accuracy: 0.5917\n",
            "Epoch 13/100\n",
            "8/9 [=========================>....] - ETA: 1s - loss: 0.6633 - accuracy: 0.6270\n",
            "Epoch 00013: saving model to /gdrive/My Drive/sisrec/cp.ckpt\n",
            "9/9 [==============================] - 14s 2s/step - loss: 0.6631 - accuracy: 0.6226\n",
            "Epoch 14/100\n",
            "8/9 [=========================>....] - ETA: 1s - loss: 0.6572 - accuracy: 0.6284\n",
            "Epoch 00014: saving model to /gdrive/My Drive/sisrec/cp.ckpt\n",
            "9/9 [==============================] - 14s 2s/step - loss: 0.6524 - accuracy: 0.6357\n",
            "Epoch 15/100\n",
            "8/9 [=========================>....] - ETA: 1s - loss: 0.6266 - accuracy: 0.6568\n",
            "Epoch 00015: saving model to /gdrive/My Drive/sisrec/cp.ckpt\n",
            "9/9 [==============================] - 14s 2s/step - loss: 0.6316 - accuracy: 0.6530\n",
            "Epoch 16/100\n",
            "8/9 [=========================>....] - ETA: 1s - loss: 0.6118 - accuracy: 0.6885\n",
            "Epoch 00016: saving model to /gdrive/My Drive/sisrec/cp.ckpt\n",
            "9/9 [==============================] - 14s 2s/step - loss: 0.6134 - accuracy: 0.6827\n",
            "Epoch 17/100\n",
            "8/9 [=========================>....] - ETA: 1s - loss: 0.6086 - accuracy: 0.6527\n",
            "Epoch 00017: saving model to /gdrive/My Drive/sisrec/cp.ckpt\n",
            "9/9 [==============================] - 14s 2s/step - loss: 0.6056 - accuracy: 0.6601\n",
            "Epoch 18/100\n",
            "8/9 [=========================>....] - ETA: 1s - loss: 0.5760 - accuracy: 0.7319\n",
            "Epoch 00018: saving model to /gdrive/My Drive/sisrec/cp.ckpt\n",
            "9/9 [==============================] - 14s 2s/step - loss: 0.5830 - accuracy: 0.7268\n",
            "Epoch 19/100\n",
            "8/9 [=========================>....] - ETA: 1s - loss: 0.6077 - accuracy: 0.6872\n",
            "Epoch 00019: saving model to /gdrive/My Drive/sisrec/cp.ckpt\n",
            "9/9 [==============================] - 14s 2s/step - loss: 0.6003 - accuracy: 0.7006\n",
            "Epoch 20/100\n",
            "8/9 [=========================>....] - ETA: 1s - loss: 0.5858 - accuracy: 0.7007\n",
            "Epoch 00020: saving model to /gdrive/My Drive/sisrec/cp.ckpt\n",
            "9/9 [==============================] - 14s 2s/step - loss: 0.5830 - accuracy: 0.6970\n",
            "Epoch 21/100\n",
            "8/9 [=========================>....] - ETA: 1s - loss: 0.6315 - accuracy: 0.6615\n",
            "Epoch 00021: saving model to /gdrive/My Drive/sisrec/cp.ckpt\n",
            "9/9 [==============================] - 13s 1s/step - loss: 0.6232 - accuracy: 0.6679\n",
            "Epoch 22/100\n",
            "8/9 [=========================>....] - ETA: 1s - loss: 0.5550 - accuracy: 0.7480\n",
            "Epoch 00022: saving model to /gdrive/My Drive/sisrec/cp.ckpt\n",
            "9/9 [==============================] - 14s 2s/step - loss: 0.5572 - accuracy: 0.7452\n",
            "Epoch 23/100\n",
            "8/9 [=========================>....] - ETA: 1s - loss: 0.5497 - accuracy: 0.7446\n",
            "Epoch 00023: saving model to /gdrive/My Drive/sisrec/cp.ckpt\n",
            "9/9 [==============================] - 14s 2s/step - loss: 0.5427 - accuracy: 0.7488\n",
            "Epoch 24/100\n",
            "8/9 [=========================>....] - ETA: 1s - loss: 0.5399 - accuracy: 0.7432\n",
            "Epoch 00024: saving model to /gdrive/My Drive/sisrec/cp.ckpt\n",
            "9/9 [==============================] - 14s 2s/step - loss: 0.5390 - accuracy: 0.7440\n",
            "Epoch 25/100\n",
            "8/9 [=========================>....] - ETA: 1s - loss: 0.5058 - accuracy: 0.7845\n",
            "Epoch 00025: saving model to /gdrive/My Drive/sisrec/cp.ckpt\n",
            "9/9 [==============================] - 14s 2s/step - loss: 0.5020 - accuracy: 0.7810\n",
            "Epoch 26/100\n",
            "8/9 [=========================>....] - ETA: 1s - loss: 0.4915 - accuracy: 0.7696\n",
            "Epoch 00026: saving model to /gdrive/My Drive/sisrec/cp.ckpt\n",
            "9/9 [==============================] - 14s 2s/step - loss: 0.4969 - accuracy: 0.7679\n",
            "Epoch 27/100\n",
            "8/9 [=========================>....] - ETA: 1s - loss: 0.5142 - accuracy: 0.7595\n",
            "Epoch 00027: saving model to /gdrive/My Drive/sisrec/cp.ckpt\n",
            "9/9 [==============================] - 14s 2s/step - loss: 0.5287 - accuracy: 0.7494\n",
            "Epoch 28/100\n",
            "8/9 [=========================>....] - ETA: 1s - loss: 0.5532 - accuracy: 0.7196\n",
            "Epoch 00028: saving model to /gdrive/My Drive/sisrec/cp.ckpt\n",
            "9/9 [==============================] - 14s 2s/step - loss: 0.5465 - accuracy: 0.7274\n",
            "Epoch 29/100\n",
            "8/9 [=========================>....] - ETA: 1s - loss: 0.5218 - accuracy: 0.7527\n",
            "Epoch 00029: saving model to /gdrive/My Drive/sisrec/cp.ckpt\n",
            "9/9 [==============================] - 14s 2s/step - loss: 0.5166 - accuracy: 0.7607\n",
            "Epoch 30/100\n",
            "8/9 [=========================>....] - ETA: 1s - loss: 0.5136 - accuracy: 0.7507\n",
            "Epoch 00030: saving model to /gdrive/My Drive/sisrec/cp.ckpt\n",
            "9/9 [==============================] - 14s 2s/step - loss: 0.5117 - accuracy: 0.7506\n",
            "Epoch 31/100\n",
            "8/9 [=========================>....] - ETA: 1s - loss: 0.4717 - accuracy: 0.7926\n",
            "Epoch 00031: saving model to /gdrive/My Drive/sisrec/cp.ckpt\n",
            "9/9 [==============================] - 14s 2s/step - loss: 0.4768 - accuracy: 0.7839\n",
            "Epoch 32/100\n",
            "8/9 [=========================>....] - ETA: 1s - loss: 0.4497 - accuracy: 0.7980\n",
            "Epoch 00032: saving model to /gdrive/My Drive/sisrec/cp.ckpt\n",
            "9/9 [==============================] - 14s 2s/step - loss: 0.4510 - accuracy: 0.8000\n",
            "Epoch 33/100\n",
            "8/9 [=========================>....] - ETA: 1s - loss: 0.4469 - accuracy: 0.7966\n",
            "Epoch 00033: saving model to /gdrive/My Drive/sisrec/cp.ckpt\n",
            "9/9 [==============================] - 14s 2s/step - loss: 0.4422 - accuracy: 0.7994\n",
            "Epoch 34/100\n",
            "8/9 [=========================>....] - ETA: 1s - loss: 0.4393 - accuracy: 0.8050\n",
            "Epoch 00034: saving model to /gdrive/My Drive/sisrec/cp.ckpt\n",
            "9/9 [==============================] - 14s 2s/step - loss: 0.4318 - accuracy: 0.8077\n",
            "Epoch 35/100\n",
            "8/9 [=========================>....] - ETA: 1s - loss: 0.4397 - accuracy: 0.7912\n",
            "Epoch 00035: saving model to /gdrive/My Drive/sisrec/cp.ckpt\n",
            "9/9 [==============================] - 14s 2s/step - loss: 0.4400 - accuracy: 0.7899\n",
            "Epoch 36/100\n",
            "8/9 [=========================>....] - ETA: 1s - loss: 0.4336 - accuracy: 0.7959\n",
            "Epoch 00036: saving model to /gdrive/My Drive/sisrec/cp.ckpt\n",
            "9/9 [==============================] - 13s 1s/step - loss: 0.4411 - accuracy: 0.7887\n",
            "Epoch 37/100\n",
            "8/9 [=========================>....] - ETA: 1s - loss: 0.4312 - accuracy: 0.8044\n",
            "Epoch 00037: saving model to /gdrive/My Drive/sisrec/cp.ckpt\n",
            "9/9 [==============================] - 14s 2s/step - loss: 0.4268 - accuracy: 0.8054\n",
            "Epoch 38/100\n",
            "8/9 [=========================>....] - ETA: 1s - loss: 0.3935 - accuracy: 0.8155\n",
            "Epoch 00038: saving model to /gdrive/My Drive/sisrec/cp.ckpt\n",
            "9/9 [==============================] - 14s 2s/step - loss: 0.3960 - accuracy: 0.8173\n",
            "Epoch 39/100\n",
            "8/9 [=========================>....] - ETA: 1s - loss: 0.4099 - accuracy: 0.8054\n",
            "Epoch 00039: saving model to /gdrive/My Drive/sisrec/cp.ckpt\n",
            "9/9 [==============================] - 14s 2s/step - loss: 0.4068 - accuracy: 0.8077\n",
            "Epoch 40/100\n",
            "8/9 [=========================>....] - ETA: 1s - loss: 0.3939 - accuracy: 0.8162\n",
            "Epoch 00040: saving model to /gdrive/My Drive/sisrec/cp.ckpt\n",
            "9/9 [==============================] - 14s 2s/step - loss: 0.3887 - accuracy: 0.8220\n",
            "Epoch 41/100\n",
            "8/9 [=========================>....] - ETA: 1s - loss: 0.3670 - accuracy: 0.8405\n",
            "Epoch 00041: saving model to /gdrive/My Drive/sisrec/cp.ckpt\n",
            "9/9 [==============================] - 14s 2s/step - loss: 0.3620 - accuracy: 0.8417\n",
            "Epoch 42/100\n",
            "8/9 [=========================>....] - ETA: 1s - loss: 0.4296 - accuracy: 0.7872\n",
            "Epoch 00042: saving model to /gdrive/My Drive/sisrec/cp.ckpt\n",
            "9/9 [==============================] - 14s 2s/step - loss: 0.4245 - accuracy: 0.7905\n",
            "Epoch 43/100\n",
            "8/9 [=========================>....] - ETA: 1s - loss: 0.3744 - accuracy: 0.8250\n",
            "Epoch 00043: saving model to /gdrive/My Drive/sisrec/cp.ckpt\n",
            "9/9 [==============================] - 14s 2s/step - loss: 0.3682 - accuracy: 0.8292\n",
            "Epoch 44/100\n",
            "8/9 [=========================>....] - ETA: 1s - loss: 0.3238 - accuracy: 0.8500\n",
            "Epoch 00044: saving model to /gdrive/My Drive/sisrec/cp.ckpt\n",
            "9/9 [==============================] - 14s 2s/step - loss: 0.3328 - accuracy: 0.8470\n",
            "Epoch 45/100\n",
            "8/9 [=========================>....] - ETA: 1s - loss: 0.3198 - accuracy: 0.8541\n",
            "Epoch 00045: saving model to /gdrive/My Drive/sisrec/cp.ckpt\n",
            "9/9 [==============================] - 14s 2s/step - loss: 0.3211 - accuracy: 0.8524\n",
            "Epoch 46/100\n",
            "8/9 [=========================>....] - ETA: 1s - loss: 0.3049 - accuracy: 0.8622\n",
            "Epoch 00046: saving model to /gdrive/My Drive/sisrec/cp.ckpt\n",
            "9/9 [==============================] - 14s 2s/step - loss: 0.3238 - accuracy: 0.8565\n",
            "Epoch 47/100\n",
            "8/9 [=========================>....] - ETA: 1s - loss: 0.3216 - accuracy: 0.8486\n",
            "Epoch 00047: saving model to /gdrive/My Drive/sisrec/cp.ckpt\n",
            "9/9 [==============================] - 14s 2s/step - loss: 0.3179 - accuracy: 0.8542\n",
            "Epoch 48/100\n",
            "8/9 [=========================>....] - ETA: 1s - loss: 0.2973 - accuracy: 0.8777\n",
            "Epoch 00048: saving model to /gdrive/My Drive/sisrec/cp.ckpt\n",
            "9/9 [==============================] - 14s 2s/step - loss: 0.2895 - accuracy: 0.8839\n",
            "Epoch 49/100\n",
            "8/9 [=========================>....] - ETA: 1s - loss: 0.2887 - accuracy: 0.8838\n",
            "Epoch 00049: saving model to /gdrive/My Drive/sisrec/cp.ckpt\n",
            "9/9 [==============================] - 14s 2s/step - loss: 0.2763 - accuracy: 0.8881\n",
            "Epoch 50/100\n",
            "8/9 [=========================>....] - ETA: 1s - loss: 0.2503 - accuracy: 0.8872\n",
            "Epoch 00050: saving model to /gdrive/My Drive/sisrec/cp.ckpt\n",
            "9/9 [==============================] - 13s 1s/step - loss: 0.2532 - accuracy: 0.8863\n",
            "Epoch 51/100\n",
            "8/9 [=========================>....] - ETA: 1s - loss: 0.2996 - accuracy: 0.8770\n",
            "Epoch 00051: saving model to /gdrive/My Drive/sisrec/cp.ckpt\n",
            "9/9 [==============================] - 14s 2s/step - loss: 0.3061 - accuracy: 0.8726\n",
            "Epoch 52/100\n",
            "8/9 [=========================>....] - ETA: 1s - loss: 0.2532 - accuracy: 0.8946\n",
            "Epoch 00052: saving model to /gdrive/My Drive/sisrec/cp.ckpt\n",
            "9/9 [==============================] - 14s 2s/step - loss: 0.2595 - accuracy: 0.8917\n",
            "Epoch 53/100\n",
            "8/9 [=========================>....] - ETA: 1s - loss: 0.2451 - accuracy: 0.8939\n",
            "Epoch 00053: saving model to /gdrive/My Drive/sisrec/cp.ckpt\n",
            "9/9 [==============================] - 14s 2s/step - loss: 0.2538 - accuracy: 0.8917\n",
            "Epoch 54/100\n",
            "8/9 [=========================>....] - ETA: 1s - loss: 0.2492 - accuracy: 0.8878\n",
            "Epoch 00054: saving model to /gdrive/My Drive/sisrec/cp.ckpt\n",
            "9/9 [==============================] - 14s 2s/step - loss: 0.2585 - accuracy: 0.8821\n",
            "Epoch 55/100\n",
            "8/9 [=========================>....] - ETA: 1s - loss: 0.2603 - accuracy: 0.8946\n",
            "Epoch 00055: saving model to /gdrive/My Drive/sisrec/cp.ckpt\n",
            "9/9 [==============================] - 14s 2s/step - loss: 0.2744 - accuracy: 0.8893\n",
            "Epoch 56/100\n",
            "8/9 [=========================>....] - ETA: 1s - loss: 0.2275 - accuracy: 0.9027\n",
            "Epoch 00056: saving model to /gdrive/My Drive/sisrec/cp.ckpt\n",
            "9/9 [==============================] - 14s 2s/step - loss: 0.2393 - accuracy: 0.8952\n",
            "Epoch 57/100\n",
            "8/9 [=========================>....] - ETA: 1s - loss: 0.2411 - accuracy: 0.9031\n",
            "Epoch 00057: saving model to /gdrive/My Drive/sisrec/cp.ckpt\n",
            "9/9 [==============================] - 14s 2s/step - loss: 0.2370 - accuracy: 0.9042\n",
            "Epoch 58/100\n",
            "8/9 [=========================>....] - ETA: 1s - loss: 0.1995 - accuracy: 0.9189\n",
            "Epoch 00058: saving model to /gdrive/My Drive/sisrec/cp.ckpt\n",
            "9/9 [==============================] - 14s 2s/step - loss: 0.2034 - accuracy: 0.9179\n",
            "Epoch 59/100\n",
            "8/9 [=========================>....] - ETA: 1s - loss: 0.2123 - accuracy: 0.9203\n",
            "Epoch 00059: saving model to /gdrive/My Drive/sisrec/cp.ckpt\n",
            "9/9 [==============================] - 14s 2s/step - loss: 0.2116 - accuracy: 0.9202\n",
            "Epoch 60/100\n",
            "8/9 [=========================>....] - ETA: 1s - loss: 0.2080 - accuracy: 0.9095\n",
            "Epoch 00060: saving model to /gdrive/My Drive/sisrec/cp.ckpt\n",
            "9/9 [==============================] - 14s 2s/step - loss: 0.2098 - accuracy: 0.9125\n",
            "Epoch 61/100\n",
            "8/9 [=========================>....] - ETA: 1s - loss: 0.1846 - accuracy: 0.9257\n",
            "Epoch 00061: saving model to /gdrive/My Drive/sisrec/cp.ckpt\n",
            "9/9 [==============================] - 14s 2s/step - loss: 0.1853 - accuracy: 0.9274\n",
            "Epoch 62/100\n",
            "8/9 [=========================>....] - ETA: 1s - loss: 0.2095 - accuracy: 0.9101\n",
            "Epoch 00062: saving model to /gdrive/My Drive/sisrec/cp.ckpt\n",
            "9/9 [==============================] - 14s 2s/step - loss: 0.2086 - accuracy: 0.9089\n",
            "Epoch 63/100\n",
            "8/9 [=========================>....] - ETA: 1s - loss: 0.1540 - accuracy: 0.9426\n",
            "Epoch 00063: saving model to /gdrive/My Drive/sisrec/cp.ckpt\n",
            "9/9 [==============================] - 14s 2s/step - loss: 0.1635 - accuracy: 0.9435\n",
            "Epoch 64/100\n",
            "8/9 [=========================>....] - ETA: 1s - loss: 0.1460 - accuracy: 0.9372\n",
            "Epoch 00064: saving model to /gdrive/My Drive/sisrec/cp.ckpt\n",
            "9/9 [==============================] - 14s 2s/step - loss: 0.1442 - accuracy: 0.9393\n",
            "Epoch 65/100\n",
            "8/9 [=========================>....] - ETA: 1s - loss: 0.1757 - accuracy: 0.9250\n",
            "Epoch 00065: saving model to /gdrive/My Drive/sisrec/cp.ckpt\n",
            "9/9 [==============================] - 14s 2s/step - loss: 0.1685 - accuracy: 0.9262\n",
            "Epoch 66/100\n",
            "8/9 [=========================>....] - ETA: 1s - loss: 0.1556 - accuracy: 0.9358\n",
            "Epoch 00066: saving model to /gdrive/My Drive/sisrec/cp.ckpt\n",
            "9/9 [==============================] - 14s 2s/step - loss: 0.1600 - accuracy: 0.9321\n",
            "Epoch 67/100\n",
            "8/9 [=========================>....] - ETA: 1s - loss: 0.1519 - accuracy: 0.9392\n",
            "Epoch 00067: saving model to /gdrive/My Drive/sisrec/cp.ckpt\n",
            "9/9 [==============================] - 13s 1s/step - loss: 0.1454 - accuracy: 0.9429\n",
            "Epoch 68/100\n",
            "8/9 [=========================>....] - ETA: 1s - loss: 0.1215 - accuracy: 0.9615\n",
            "Epoch 00068: saving model to /gdrive/My Drive/sisrec/cp.ckpt\n",
            "9/9 [==============================] - 14s 2s/step - loss: 0.1244 - accuracy: 0.9601\n",
            "Epoch 69/100\n",
            "8/9 [=========================>....] - ETA: 1s - loss: 0.1272 - accuracy: 0.9493\n",
            "Epoch 00069: saving model to /gdrive/My Drive/sisrec/cp.ckpt\n",
            "9/9 [==============================] - 13s 1s/step - loss: 0.1379 - accuracy: 0.9470\n",
            "Epoch 70/100\n",
            "8/9 [=========================>....] - ETA: 1s - loss: 0.1320 - accuracy: 0.9473\n",
            "Epoch 00070: saving model to /gdrive/My Drive/sisrec/cp.ckpt\n",
            "9/9 [==============================] - 14s 2s/step - loss: 0.1551 - accuracy: 0.9399\n",
            "Epoch 71/100\n",
            "8/9 [=========================>....] - ETA: 1s - loss: 0.1282 - accuracy: 0.9500\n",
            "Epoch 00071: saving model to /gdrive/My Drive/sisrec/cp.ckpt\n",
            "9/9 [==============================] - 14s 2s/step - loss: 0.1340 - accuracy: 0.9464\n",
            "Epoch 72/100\n",
            "8/9 [=========================>....] - ETA: 1s - loss: 0.1293 - accuracy: 0.9520\n",
            "Epoch 00072: saving model to /gdrive/My Drive/sisrec/cp.ckpt\n",
            "9/9 [==============================] - 14s 2s/step - loss: 0.1327 - accuracy: 0.9482\n",
            "Epoch 73/100\n",
            "8/9 [=========================>....] - ETA: 1s - loss: 0.1088 - accuracy: 0.9547\n",
            "Epoch 00073: saving model to /gdrive/My Drive/sisrec/cp.ckpt\n",
            "9/9 [==============================] - 14s 2s/step - loss: 0.1145 - accuracy: 0.9565\n",
            "Epoch 74/100\n",
            "8/9 [=========================>....] - ETA: 1s - loss: 0.1181 - accuracy: 0.9514\n",
            "Epoch 00074: saving model to /gdrive/My Drive/sisrec/cp.ckpt\n",
            "9/9 [==============================] - 14s 2s/step - loss: 0.1172 - accuracy: 0.9524\n",
            "Epoch 75/100\n",
            "8/9 [=========================>....] - ETA: 1s - loss: 0.1287 - accuracy: 0.9392\n",
            "Epoch 00075: saving model to /gdrive/My Drive/sisrec/cp.ckpt\n",
            "9/9 [==============================] - 14s 2s/step - loss: 0.1208 - accuracy: 0.9452\n",
            "Epoch 76/100\n",
            "8/9 [=========================>....] - ETA: 1s - loss: 0.1543 - accuracy: 0.9372\n",
            "Epoch 00076: saving model to /gdrive/My Drive/sisrec/cp.ckpt\n",
            "9/9 [==============================] - 14s 2s/step - loss: 0.1507 - accuracy: 0.9399\n",
            "Epoch 77/100\n",
            "8/9 [=========================>....] - ETA: 1s - loss: 0.1526 - accuracy: 0.9372\n",
            "Epoch 00077: saving model to /gdrive/My Drive/sisrec/cp.ckpt\n",
            "9/9 [==============================] - 14s 2s/step - loss: 0.1568 - accuracy: 0.9357\n",
            "Epoch 78/100\n",
            "8/9 [=========================>....] - ETA: 1s - loss: 0.1446 - accuracy: 0.9453\n",
            "Epoch 00078: saving model to /gdrive/My Drive/sisrec/cp.ckpt\n",
            "9/9 [==============================] - 14s 2s/step - loss: 0.1459 - accuracy: 0.9440\n",
            "Epoch 79/100\n",
            "8/9 [=========================>....] - ETA: 1s - loss: 0.1567 - accuracy: 0.9425\n",
            "Epoch 00079: saving model to /gdrive/My Drive/sisrec/cp.ckpt\n",
            "9/9 [==============================] - 14s 2s/step - loss: 0.1500 - accuracy: 0.9440\n",
            "Epoch 80/100\n",
            "8/9 [=========================>....] - ETA: 1s - loss: 0.1702 - accuracy: 0.9277\n",
            "Epoch 00080: saving model to /gdrive/My Drive/sisrec/cp.ckpt\n",
            "9/9 [==============================] - 14s 2s/step - loss: 0.1620 - accuracy: 0.9315\n",
            "Epoch 81/100\n",
            "8/9 [=========================>....] - ETA: 1s - loss: 0.0992 - accuracy: 0.9601\n",
            "Epoch 00081: saving model to /gdrive/My Drive/sisrec/cp.ckpt\n",
            "9/9 [==============================] - 13s 1s/step - loss: 0.1053 - accuracy: 0.9583\n",
            "Epoch 82/100\n",
            "8/9 [=========================>....] - ETA: 1s - loss: 0.1101 - accuracy: 0.9500\n",
            "Epoch 00082: saving model to /gdrive/My Drive/sisrec/cp.ckpt\n",
            "9/9 [==============================] - 14s 2s/step - loss: 0.1169 - accuracy: 0.9488\n",
            "Epoch 83/100\n",
            "8/9 [=========================>....] - ETA: 1s - loss: 0.0787 - accuracy: 0.9723\n",
            "Epoch 00083: saving model to /gdrive/My Drive/sisrec/cp.ckpt\n",
            "9/9 [==============================] - 14s 2s/step - loss: 0.0837 - accuracy: 0.9696\n",
            "Epoch 84/100\n",
            "8/9 [=========================>....] - ETA: 1s - loss: 0.0815 - accuracy: 0.9725\n",
            "Epoch 00084: saving model to /gdrive/My Drive/sisrec/cp.ckpt\n",
            "9/9 [==============================] - 13s 1s/step - loss: 0.0765 - accuracy: 0.9738\n",
            "Epoch 85/100\n",
            "8/9 [=========================>....] - ETA: 1s - loss: 0.0725 - accuracy: 0.9770\n",
            "Epoch 00085: saving model to /gdrive/My Drive/sisrec/cp.ckpt\n",
            "9/9 [==============================] - 14s 2s/step - loss: 0.0698 - accuracy: 0.9786\n",
            "Epoch 86/100\n",
            "8/9 [=========================>....] - ETA: 1s - loss: 0.0577 - accuracy: 0.9764\n",
            "Epoch 00086: saving model to /gdrive/My Drive/sisrec/cp.ckpt\n",
            "9/9 [==============================] - 14s 2s/step - loss: 0.0565 - accuracy: 0.9756\n",
            "Epoch 87/100\n",
            "8/9 [=========================>....] - ETA: 1s - loss: 0.0427 - accuracy: 0.9878\n",
            "Epoch 00087: saving model to /gdrive/My Drive/sisrec/cp.ckpt\n",
            "9/9 [==============================] - 14s 2s/step - loss: 0.0518 - accuracy: 0.9851\n",
            "Epoch 88/100\n",
            "8/9 [=========================>....] - ETA: 1s - loss: 0.0824 - accuracy: 0.9725\n",
            "Epoch 00088: saving model to /gdrive/My Drive/sisrec/cp.ckpt\n",
            "9/9 [==============================] - 14s 2s/step - loss: 0.0745 - accuracy: 0.9738\n",
            "Epoch 89/100\n",
            "8/9 [=========================>....] - ETA: 1s - loss: 0.0756 - accuracy: 0.9731\n",
            "Epoch 00089: saving model to /gdrive/My Drive/sisrec/cp.ckpt\n",
            "9/9 [==============================] - 13s 1s/step - loss: 0.0691 - accuracy: 0.9744\n",
            "Epoch 90/100\n",
            "8/9 [=========================>....] - ETA: 1s - loss: 0.0851 - accuracy: 0.9723\n",
            "Epoch 00090: saving model to /gdrive/My Drive/sisrec/cp.ckpt\n",
            "9/9 [==============================] - 13s 1s/step - loss: 0.0822 - accuracy: 0.9726\n",
            "Epoch 91/100\n",
            "8/9 [=========================>....] - ETA: 1s - loss: 0.0840 - accuracy: 0.9662\n",
            "Epoch 00091: saving model to /gdrive/My Drive/sisrec/cp.ckpt\n",
            "9/9 [==============================] - 14s 2s/step - loss: 0.0859 - accuracy: 0.9661\n",
            "Epoch 92/100\n",
            "8/9 [=========================>....] - ETA: 1s - loss: 0.0808 - accuracy: 0.9682\n",
            "Epoch 00092: saving model to /gdrive/My Drive/sisrec/cp.ckpt\n",
            "9/9 [==============================] - 13s 1s/step - loss: 0.0898 - accuracy: 0.9661\n",
            "Epoch 93/100\n",
            "8/9 [=========================>....] - ETA: 1s - loss: 0.1279 - accuracy: 0.9520\n",
            "Epoch 00093: saving model to /gdrive/My Drive/sisrec/cp.ckpt\n",
            "9/9 [==============================] - 14s 2s/step - loss: 0.1199 - accuracy: 0.9565\n",
            "Epoch 94/100\n",
            "8/9 [=========================>....] - ETA: 1s - loss: 0.1076 - accuracy: 0.9561\n",
            "Epoch 00094: saving model to /gdrive/My Drive/sisrec/cp.ckpt\n",
            "9/9 [==============================] - 14s 2s/step - loss: 0.1115 - accuracy: 0.9542\n",
            "Epoch 95/100\n",
            "8/9 [=========================>....] - ETA: 1s - loss: 0.0720 - accuracy: 0.9682\n",
            "Epoch 00095: saving model to /gdrive/My Drive/sisrec/cp.ckpt\n",
            "9/9 [==============================] - 13s 1s/step - loss: 0.0701 - accuracy: 0.9696\n",
            "Epoch 96/100\n",
            "8/9 [=========================>....] - ETA: 1s - loss: 0.0955 - accuracy: 0.9688\n",
            "Epoch 00096: saving model to /gdrive/My Drive/sisrec/cp.ckpt\n",
            "9/9 [==============================] - 13s 1s/step - loss: 0.0864 - accuracy: 0.9702\n",
            "Epoch 97/100\n",
            "8/9 [=========================>....] - ETA: 1s - loss: 0.0750 - accuracy: 0.9689\n",
            "Epoch 00097: saving model to /gdrive/My Drive/sisrec/cp.ckpt\n",
            "9/9 [==============================] - 14s 2s/step - loss: 0.0732 - accuracy: 0.9702\n",
            "Epoch 98/100\n",
            "8/9 [=========================>....] - ETA: 1s - loss: 0.0605 - accuracy: 0.9818\n",
            "Epoch 00098: saving model to /gdrive/My Drive/sisrec/cp.ckpt\n",
            "9/9 [==============================] - 13s 1s/step - loss: 0.0655 - accuracy: 0.9780\n",
            "Epoch 99/100\n",
            "8/9 [=========================>....] - ETA: 1s - loss: 0.0593 - accuracy: 0.9770\n",
            "Epoch 00099: saving model to /gdrive/My Drive/sisrec/cp.ckpt\n",
            "9/9 [==============================] - 13s 1s/step - loss: 0.0588 - accuracy: 0.9774\n",
            "Epoch 100/100\n",
            "8/9 [=========================>....] - ETA: 1s - loss: 0.0777 - accuracy: 0.9689\n",
            "Epoch 00100: saving model to /gdrive/My Drive/sisrec/cp.ckpt\n"
          ],
          "name": "stdout"
        }
      ]
    },
    {
      "cell_type": "code",
      "metadata": {
        "id": "2aNFXZ6KS0U0",
        "colab_type": "code",
        "outputId": "e5106581-9988-4299-836a-ca055ebe4e1e",
        "colab": {
          "base_uri": "https://localhost:8080/",
          "height": 561
        }
      },
      "source": [
        "model.summary()"
      ],
      "execution_count": 0,
      "outputs": [
        {
          "output_type": "stream",
          "text": [
            "Model: \"sequential_1\"\n",
            "_________________________________________________________________\n",
            "Layer (type)                 Output Shape              Param #   \n",
            "=================================================================\n",
            "conv2d_5 (Conv2D)            (None, 256, 256, 32)      896       \n",
            "_________________________________________________________________\n",
            "max_pooling2d_3 (MaxPooling2 (None, 128, 128, 32)      0         \n",
            "_________________________________________________________________\n",
            "conv2d_6 (Conv2D)            (None, 128, 128, 64)      18496     \n",
            "_________________________________________________________________\n",
            "max_pooling2d_4 (MaxPooling2 (None, 64, 64, 64)        0         \n",
            "_________________________________________________________________\n",
            "conv2d_7 (Conv2D)            (None, 64, 64, 128)       73856     \n",
            "_________________________________________________________________\n",
            "max_pooling2d_5 (MaxPooling2 (None, 32, 32, 128)       0         \n",
            "_________________________________________________________________\n",
            "conv2d_8 (Conv2D)            (None, 32, 32, 256)       295168    \n",
            "_________________________________________________________________\n",
            "conv2d_9 (Conv2D)            (None, 32, 32, 512)       1180160   \n",
            "_________________________________________________________________\n",
            "global_average_pooling2d_1 ( (None, 512)               0         \n",
            "_________________________________________________________________\n",
            "dense_2 (Dense)              (None, 512)               262656    \n",
            "_________________________________________________________________\n",
            "dropout_1 (Dropout)          (None, 512)               0         \n",
            "_________________________________________________________________\n",
            "dense_3 (Dense)              (None, 2)                 1026      \n",
            "=================================================================\n",
            "Total params: 1,832,258\n",
            "Trainable params: 1,832,258\n",
            "Non-trainable params: 0\n",
            "_________________________________________________________________\n"
          ],
          "name": "stdout"
        }
      ]
    },
    {
      "cell_type": "code",
      "metadata": {
        "id": "KnT3lGfgyH4W",
        "colab_type": "code",
        "colab": {
          "base_uri": "https://localhost:8080/",
          "height": 295
        },
        "outputId": "00bd032e-be15-4547-fcdc-e609cdb479fa"
      },
      "source": [
        "plt.plot(history.history['accuracy'])\n",
        "plt.plot(history.history['loss'])\n",
        "plt.title('Model accuracy')\n",
        "plt.ylabel('Accuracy')\n",
        "plt.xlabel('Epoch')\n",
        "plt.legend(['accuracy', 'error'], loc='upper left')\n",
        "plt.show()"
      ],
      "execution_count": 38,
      "outputs": [
        {
          "output_type": "display_data",
          "data": {
            "image/png": "[encoded data removed]",
            "text/plain": [
              "<Figure size 432x288 with 1 Axes>"
            ]
          },
          "metadata": {
            "tags": [],
            "needs_background": "light"
          }
        }
      ]
    },
    {
      "cell_type": "markdown",
      "metadata": {
        "id": "QdqoucYrmTYG",
        "colab_type": "text"
      },
      "source": [
        "## LOAD MODEL"
      ]
    },
    {
      "cell_type": "code",
      "metadata": {
        "id": "IzZUO7_819dw",
        "colab_type": "code",
        "colab": {}
      },
      "source": [
        "from tensorflow.keras.models import load_model\n",
        "\n",
        "model = load_model('/gdrive/My Drive/sisrec/model_1.h5')"
      ],
      "execution_count": 0,
      "outputs": []
    },
    {
      "cell_type": "markdown",
      "metadata": {
        "id": "tIexe4ByrMHh",
        "colab_type": "text"
      },
      "source": [
        "# GENERATE DATATEST"
      ]
    },
    {
      "cell_type": "code",
      "metadata": {
        "id": "9CT3SzndrSCW",
        "colab_type": "code",
        "outputId": "6e5aa5a7-1b7f-4ffe-b34e-2a5761c20fb4",
        "colab": {
          "base_uri": "https://localhost:8080/",
          "height": 34
        }
      },
      "source": [
        "test_datagen = ImageDataGenerator(\n",
        "    rescale = 1./255,\n",
        "    width_shift_range = 0.2, height_shift_range = 0.2,\n",
        "    zoom_range = 0.2\n",
        ")\n",
        "datatest = test_datagen.flow_from_directory(url_test,\n",
        "                                   target_size= im_size,\n",
        "                                   batch_size = 50,\n",
        "                                   class_mode = 'categorical')"
      ],
      "execution_count": 39,
      "outputs": [
        {
          "output_type": "stream",
          "text": [
            "Found 226 images belonging to 2 classes.\n"
          ],
          "name": "stdout"
        }
      ]
    },
    {
      "cell_type": "code",
      "metadata": {
        "id": "aKPEZpPrs1yv",
        "colab_type": "code",
        "outputId": "bbf9ab2d-dd15-4b2b-96ca-7c8df8df4f6f",
        "colab": {
          "base_uri": "https://localhost:8080/",
          "height": 34
        }
      },
      "source": [
        "datatest.class_indices"
      ],
      "execution_count": 40,
      "outputs": [
        {
          "output_type": "execute_result",
          "data": {
            "text/plain": [
              "{'Laki-laki': 0, 'Perempuan': 1}"
            ]
          },
          "metadata": {
            "tags": []
          },
          "execution_count": 40
        }
      ]
    },
    {
      "cell_type": "code",
      "metadata": {
        "id": "BlwKhi1GfkV6",
        "colab_type": "code",
        "outputId": "138303d7-87b4-4f98-afd7-0a30d6c0d511",
        "colab": {
          "base_uri": "https://localhost:8080/",
          "height": 102
        }
      },
      "source": [
        "model.evaluate_generator(datatest)"
      ],
      "execution_count": 41,
      "outputs": [
        {
          "output_type": "stream",
          "text": [
            "WARNING:tensorflow:sample_weight modes were coerced from\n",
            "  ...\n",
            "    to  \n",
            "  ['...']\n"
          ],
          "name": "stdout"
        },
        {
          "output_type": "execute_result",
          "data": {
            "text/plain": [
              "[0.6411015033721924, 0.8185841]"
            ]
          },
          "metadata": {
            "tags": []
          },
          "execution_count": 41
        }
      ]
    },
    {
      "cell_type": "markdown",
      "metadata": {
        "id": "NDLxWKmiwNzn",
        "colab_type": "text"
      },
      "source": [
        "# CONCLUSION\n",
        "\n",
        "For the result above, we can conclude that our model having a little bit of overfit, we can see from the datatrain we get accuracy about 96%. But when we try to evaluate using datatest (different data) we get accuracy about 81%."
      ]
    },
    {
      "cell_type": "code",
      "metadata": {
        "id": "QinXC85nIyD8",
        "colab_type": "code",
        "colab": {}
      },
      "source": [
        "model.save('/gdrive/My Drive/sisrec/model_1.h5')"
      ],
      "execution_count": 0,
      "outputs": []
    },
    {
      "cell_type": "markdown",
      "metadata": {
        "id": "BCLBE_MBmV2V",
        "colab_type": "text"
      },
      "source": [
        "## LET'S PREDICT"
      ]
    },
    {
      "cell_type": "code",
      "metadata": {
        "id": "v9TYYMumJIVn",
        "colab_type": "code",
        "colab": {}
      },
      "source": [
        "from tensorflow.keras.preprocessing.image import load_img\n",
        "import numpy as np"
      ],
      "execution_count": 0,
      "outputs": []
    },
    {
      "cell_type": "code",
      "metadata": {
        "id": "DBNpUiArQdi5",
        "colab_type": "code",
        "outputId": "3d81986b-8613-4b36-e029-0ba33bdac6ee",
        "colab": {
          "base_uri": "https://localhost:8080/",
          "height": 248
        }
      },
      "source": [
        "img = load_img('/gdrive/My Drive/Dataset Wajah/takanori.jpg', target_size = im_size)\n",
        "plt.imshow(img)\n",
        "plt.axis('off')\n",
        "plt.show()"
      ],
      "execution_count": 53,
      "outputs": [
        {
          "output_type": "display_data",
          "data": {
            "image/png": "[encoded data removed]",
            "text/plain": [
              "<Figure size 432x288 with 1 Axes>"
            ]
          },
          "metadata": {
            "tags": [],
            "needs_background": "light"
          }
        }
      ]
    },
    {
      "cell_type": "code",
      "metadata": {
        "id": "VDDrljOyQpC1",
        "colab_type": "code",
        "outputId": "d016be40-8eb3-4848-d335-697eba17bce0",
        "colab": {
          "base_uri": "https://localhost:8080/",
          "height": 34
        }
      },
      "source": [
        "img = np.array(img, dtype='float')\n",
        "img = img.reshape(1, 256, 256, 3)\n",
        "prediksi = model.predict(img)\n",
        "idx = np.argmax(prediksi)\n",
        "print(idx)"
      ],
      "execution_count": 54,
      "outputs": [
        {
          "output_type": "stream",
          "text": [
            "0\n"
          ],
          "name": "stdout"
        }
      ]
    },
    {
      "cell_type": "code",
      "metadata": {
        "id": "NzD0hsBeRiY6",
        "colab_type": "code",
        "outputId": "c61fcd38-98e4-4de5-b8f7-66ea631fcd5d",
        "colab": {
          "base_uri": "https://localhost:8080/",
          "height": 34
        }
      },
      "source": [
        "labels = [v for v in data_train.class_indices.keys()]\n",
        "print(\"Dia seorang\", labels[idx])"
      ],
      "execution_count": 55,
      "outputs": [
        {
          "output_type": "stream",
          "text": [
            "Dia seorang Laki-laki\n"
          ],
          "name": "stdout"
        }
      ]
    }
  ]
}