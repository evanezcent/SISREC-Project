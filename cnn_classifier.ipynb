{
  "nbformat": 4,
  "nbformat_minor": 0,
  "metadata": {
    "kernelspec": {
      "name": "python3",
      "display_name": "Python 3"
    },
    "language_info": {
      "codemirror_mode": {
        "name": "ipython",
        "version": 3
      },
      "file_extension": ".py",
      "mimetype": "text/x-python",
      "name": "python",
      "nbconvert_exporter": "python",
      "pygments_lexer": "ipython3",
      "version": "3.7.1"
    },
    "colab": {
      "name": "cnn-classifier.ipynb",
      "provenance": [],
      "collapsed_sections": [],
      "toc_visible": true
    },
    "accelerator": "GPU"
  },
  "cells": [
    {
      "cell_type": "code",
      "metadata": {
        "id": "XXMrKKXbbith",
        "colab_type": "code",
        "outputId": "acaddd87-28d1-4069-f128-f81e57be0d06",
        "colab": {
          "base_uri": "https://localhost:8080/",
          "height": 1000
        }
      },
      "source": [
        "!pip install tensorflow-gpu"
      ],
      "execution_count": 1,
      "outputs": [
        {
          "output_type": "stream",
          "text": [
            "Collecting tensorflow-gpu\n",
            "\u001b[?25l  Downloading https://files.pythonhosted.org/packages/0a/93/c7bca39b23aae45cd2e85ad3871c81eccc63b9c5276e926511e2e5b0879d/tensorflow_gpu-2.1.0-cp36-cp36m-manylinux2010_x86_64.whl (421.8MB)\n",
            "\u001b[K     |████████████████████████████████| 421.8MB 39kB/s \n",
            "\u001b[?25hRequirement already satisfied: numpy<2.0,>=1.16.0 in /usr/local/lib/python3.6/dist-packages (from tensorflow-gpu) (1.18.2)\n",
            "Requirement already satisfied: keras-applications>=1.0.8 in /usr/local/lib/python3.6/dist-packages (from tensorflow-gpu) (1.0.8)\n",
            "Requirement already satisfied: keras-preprocessing>=1.1.0 in /usr/local/lib/python3.6/dist-packages (from tensorflow-gpu) (1.1.0)\n",
            "Requirement already satisfied: grpcio>=1.8.6 in /usr/local/lib/python3.6/dist-packages (from tensorflow-gpu) (1.28.1)\n",
            "Requirement already satisfied: google-pasta>=0.1.6 in /usr/local/lib/python3.6/dist-packages (from tensorflow-gpu) (0.2.0)\n",
            "Requirement already satisfied: absl-py>=0.7.0 in /usr/local/lib/python3.6/dist-packages (from tensorflow-gpu) (0.9.0)\n",
            "Collecting tensorboard<2.2.0,>=2.1.0\n",
            "\u001b[?25l  Downloading https://files.pythonhosted.org/packages/d9/41/bbf49b61370e4f4d245d4c6051dfb6db80cec672605c91b1652ac8cc3d38/tensorboard-2.1.1-py3-none-any.whl (3.8MB)\n",
            "\u001b[K     |████████████████████████████████| 3.9MB 23.7MB/s \n",
            "\u001b[?25hRequirement already satisfied: opt-einsum>=2.3.2 in /usr/local/lib/python3.6/dist-packages (from tensorflow-gpu) (3.2.1)\n",
            "Requirement already satisfied: protobuf>=3.8.0 in /usr/local/lib/python3.6/dist-packages (from tensorflow-gpu) (3.10.0)\n",
            "Requirement already satisfied: wheel>=0.26; python_version >= \"3\" in /usr/local/lib/python3.6/dist-packages (from tensorflow-gpu) (0.34.2)\n",
            "Requirement already satisfied: wrapt>=1.11.1 in /usr/local/lib/python3.6/dist-packages (from tensorflow-gpu) (1.12.1)\n",
            "Collecting tensorflow-estimator<2.2.0,>=2.1.0rc0\n",
            "\u001b[?25l  Downloading https://files.pythonhosted.org/packages/18/90/b77c328a1304437ab1310b463e533fa7689f4bfc41549593056d812fab8e/tensorflow_estimator-2.1.0-py2.py3-none-any.whl (448kB)\n",
            "\u001b[K     |████████████████████████████████| 450kB 44.8MB/s \n",
            "\u001b[?25hRequirement already satisfied: termcolor>=1.1.0 in /usr/local/lib/python3.6/dist-packages (from tensorflow-gpu) (1.1.0)\n",
            "Requirement already satisfied: six>=1.12.0 in /usr/local/lib/python3.6/dist-packages (from tensorflow-gpu) (1.12.0)\n",
            "Requirement already satisfied: astor>=0.6.0 in /usr/local/lib/python3.6/dist-packages (from tensorflow-gpu) (0.8.1)\n",
            "Requirement already satisfied: scipy==1.4.1; python_version >= \"3\" in /usr/local/lib/python3.6/dist-packages (from tensorflow-gpu) (1.4.1)\n",
            "Collecting gast==0.2.2\n",
            "  Downloading https://files.pythonhosted.org/packages/4e/35/11749bf99b2d4e3cceb4d55ca22590b0d7c2c62b9de38ac4a4a7f4687421/gast-0.2.2.tar.gz\n",
            "Requirement already satisfied: h5py in /usr/local/lib/python3.6/dist-packages (from keras-applications>=1.0.8->tensorflow-gpu) (2.10.0)\n",
            "Requirement already satisfied: requests<3,>=2.21.0 in /usr/local/lib/python3.6/dist-packages (from tensorboard<2.2.0,>=2.1.0->tensorflow-gpu) (2.21.0)\n",
            "Requirement already satisfied: google-auth<2,>=1.6.3 in /usr/local/lib/python3.6/dist-packages (from tensorboard<2.2.0,>=2.1.0->tensorflow-gpu) (1.7.2)\n",
            "Requirement already satisfied: setuptools>=41.0.0 in /usr/local/lib/python3.6/dist-packages (from tensorboard<2.2.0,>=2.1.0->tensorflow-gpu) (46.1.3)\n",
            "Requirement already satisfied: google-auth-oauthlib<0.5,>=0.4.1 in /usr/local/lib/python3.6/dist-packages (from tensorboard<2.2.0,>=2.1.0->tensorflow-gpu) (0.4.1)\n",
            "Requirement already satisfied: werkzeug>=0.11.15 in /usr/local/lib/python3.6/dist-packages (from tensorboard<2.2.0,>=2.1.0->tensorflow-gpu) (1.0.1)\n",
            "Requirement already satisfied: markdown>=2.6.8 in /usr/local/lib/python3.6/dist-packages (from tensorboard<2.2.0,>=2.1.0->tensorflow-gpu) (3.2.1)\n",
            "Requirement already satisfied: urllib3<1.25,>=1.21.1 in /usr/local/lib/python3.6/dist-packages (from requests<3,>=2.21.0->tensorboard<2.2.0,>=2.1.0->tensorflow-gpu) (1.24.3)\n",
            "Requirement already satisfied: chardet<3.1.0,>=3.0.2 in /usr/local/lib/python3.6/dist-packages (from requests<3,>=2.21.0->tensorboard<2.2.0,>=2.1.0->tensorflow-gpu) (3.0.4)\n",
            "Requirement already satisfied: certifi>=2017.4.17 in /usr/local/lib/python3.6/dist-packages (from requests<3,>=2.21.0->tensorboard<2.2.0,>=2.1.0->tensorflow-gpu) (2020.4.5.1)\n",
            "Requirement already satisfied: idna<2.9,>=2.5 in /usr/local/lib/python3.6/dist-packages (from requests<3,>=2.21.0->tensorboard<2.2.0,>=2.1.0->tensorflow-gpu) (2.8)\n",
            "Requirement already satisfied: cachetools<3.2,>=2.0.0 in /usr/local/lib/python3.6/dist-packages (from google-auth<2,>=1.6.3->tensorboard<2.2.0,>=2.1.0->tensorflow-gpu) (3.1.1)\n",
            "Requirement already satisfied: rsa<4.1,>=3.1.4 in /usr/local/lib/python3.6/dist-packages (from google-auth<2,>=1.6.3->tensorboard<2.2.0,>=2.1.0->tensorflow-gpu) (4.0)\n",
            "Requirement already satisfied: pyasn1-modules>=0.2.1 in /usr/local/lib/python3.6/dist-packages (from google-auth<2,>=1.6.3->tensorboard<2.2.0,>=2.1.0->tensorflow-gpu) (0.2.8)\n",
            "Requirement already satisfied: requests-oauthlib>=0.7.0 in /usr/local/lib/python3.6/dist-packages (from google-auth-oauthlib<0.5,>=0.4.1->tensorboard<2.2.0,>=2.1.0->tensorflow-gpu) (1.3.0)\n",
            "Requirement already satisfied: pyasn1>=0.1.3 in /usr/local/lib/python3.6/dist-packages (from rsa<4.1,>=3.1.4->google-auth<2,>=1.6.3->tensorboard<2.2.0,>=2.1.0->tensorflow-gpu) (0.4.8)\n",
            "Requirement already satisfied: oauthlib>=3.0.0 in /usr/local/lib/python3.6/dist-packages (from requests-oauthlib>=0.7.0->google-auth-oauthlib<0.5,>=0.4.1->tensorboard<2.2.0,>=2.1.0->tensorflow-gpu) (3.1.0)\n",
            "Building wheels for collected packages: gast\n",
            "  Building wheel for gast (setup.py) ... \u001b[?25l\u001b[?25hdone\n",
            "  Created wheel for gast: filename=gast-0.2.2-cp36-none-any.whl size=7540 sha256=a40b83bd0ec6d1d8c0ced003d8b291db40ee6abdf89499721626a768caf33e3c\n",
            "  Stored in directory: /root/.cache/pip/wheels/5c/2e/7e/a1d4d4fcebe6c381f378ce7743a3ced3699feb89bcfbdadadd\n",
            "Successfully built gast\n",
            "\u001b[31mERROR: tensorflow 2.2.0rc3 has requirement gast==0.3.3, but you'll have gast 0.2.2 which is incompatible.\u001b[0m\n",
            "\u001b[31mERROR: tensorflow 2.2.0rc3 has requirement tensorboard<2.3.0,>=2.2.0, but you'll have tensorboard 2.1.1 which is incompatible.\u001b[0m\n",
            "\u001b[31mERROR: tensorflow 2.2.0rc3 has requirement tensorflow-estimator<2.3.0,>=2.2.0rc0, but you'll have tensorflow-estimator 2.1.0 which is incompatible.\u001b[0m\n",
            "\u001b[31mERROR: tensorflow-probability 0.10.0rc0 has requirement gast>=0.3.2, but you'll have gast 0.2.2 which is incompatible.\u001b[0m\n",
            "Installing collected packages: tensorboard, tensorflow-estimator, gast, tensorflow-gpu\n",
            "  Found existing installation: tensorboard 2.2.1\n",
            "    Uninstalling tensorboard-2.2.1:\n",
            "      Successfully uninstalled tensorboard-2.2.1\n",
            "  Found existing installation: tensorflow-estimator 2.2.0\n",
            "    Uninstalling tensorflow-estimator-2.2.0:\n",
            "      Successfully uninstalled tensorflow-estimator-2.2.0\n",
            "  Found existing installation: gast 0.3.3\n",
            "    Uninstalling gast-0.3.3:\n",
            "      Successfully uninstalled gast-0.3.3\n",
            "Successfully installed gast-0.2.2 tensorboard-2.1.1 tensorflow-estimator-2.1.0 tensorflow-gpu-2.1.0\n"
          ],
          "name": "stdout"
        }
      ]
    },
    {
      "cell_type": "code",
      "metadata": {
        "id": "G-iNc6SNbspi",
        "colab_type": "code",
        "outputId": "0209b578-2d91-482d-b782-ba60ed6c874b",
        "colab": {
          "base_uri": "https://localhost:8080/",
          "height": 122
        }
      },
      "source": [
        "from google.colab import drive\n",
        "drive.mount('/gdrive')"
      ],
      "execution_count": 2,
      "outputs": [
        {
          "output_type": "stream",
          "text": [
            "Go to this URL in a browser: https://accounts.google.com/o/oauth2/auth?client_id=947318989803-6bn6qk8qdgf4n4g3pfee6491hc0brc4i.apps.googleusercontent.com&redirect_uri=urn%3aietf%3awg%3aoauth%3a2.0%3aoob&response_type=code&scope=email%20https%3a%2f%2fwww.googleapis.com%2fauth%2fdocs.test%20https%3a%2f%2fwww.googleapis.com%2fauth%2fdrive%20https%3a%2f%2fwww.googleapis.com%2fauth%2fdrive.photos.readonly%20https%3a%2f%2fwww.googleapis.com%2fauth%2fpeopleapi.readonly\n",
            "\n",
            "Enter your authorization code:\n",
            "··········\n",
            "Mounted at /gdrive\n"
          ],
          "name": "stdout"
        }
      ]
    },
    {
      "cell_type": "code",
      "metadata": {
        "id": "rHbqgJMUS0UX",
        "colab_type": "code",
        "colab": {}
      },
      "source": [
        "import tensorflow as tf\n",
        "import cv2\n",
        "import matplotlib.pyplot as plt\n",
        "from tensorflow.keras.layers import *\n",
        "from tensorflow.keras.preprocessing.image import ImageDataGenerator\n",
        "%matplotlib inline\n",
        "import os"
      ],
      "execution_count": 0,
      "outputs": []
    },
    {
      "cell_type": "code",
      "metadata": {
        "id": "nfwkVxPQcGVh",
        "colab_type": "code",
        "colab": {}
      },
      "source": [
        "url_train = '/gdrive/My Drive/sisrec/training'\n",
        "url_test = '/gdrive/My Drive/sisrec/test'\n",
        "urlPath = '/gdrive/My Drive/sisrec'"
      ],
      "execution_count": 0,
      "outputs": []
    },
    {
      "cell_type": "markdown",
      "metadata": {
        "id": "ZHLCpWStmqCs",
        "colab_type": "text"
      },
      "source": [
        "## RESHAPE IMAGE INTO SQUARE\n",
        "\n",
        "Measure that your data is square image, if not please do some image processing"
      ]
    },
    {
      "cell_type": "code",
      "metadata": {
        "id": "9U5FVlclS0Ug",
        "colab_type": "code",
        "colab": {}
      },
      "source": [
        "im_size = (256, 256)\n",
        "im_size2 = (256, 256, 3)"
      ],
      "execution_count": 0,
      "outputs": []
    },
    {
      "cell_type": "code",
      "metadata": {
        "id": "UwPXiL73cyz6",
        "colab_type": "code",
        "colab": {}
      },
      "source": [
        "from tensorflow.keras import Sequential"
      ],
      "execution_count": 0,
      "outputs": []
    },
    {
      "cell_type": "markdown",
      "metadata": {
        "id": "bGq3TRkwmifU",
        "colab_type": "text"
      },
      "source": [
        "## GENERATE DATATRAIN"
      ]
    },
    {
      "cell_type": "code",
      "metadata": {
        "id": "QmWlmLB1S0Uj",
        "colab_type": "code",
        "outputId": "f8a3a9f8-4520-4f1e-dde6-4c2a2f61c21d",
        "colab": {
          "base_uri": "https://localhost:8080/",
          "height": 34
        }
      },
      "source": [
        "datagen = ImageDataGenerator(\n",
        "    rescale = 1./255,\n",
        "    width_shift_range = 0.2, height_shift_range = 0.2,\n",
        "    zoom_range = 0.2\n",
        ")\n",
        "# Gvfet data from folder\n",
        "data_train = datagen.flow_from_directory(url_train,\n",
        "                                         target_size = im_size,\n",
        "                                         batch_size = 100,\n",
        "                                         class_mode = 'categorical'\n",
        "                                         )\n",
        "\n"
      ],
      "execution_count": 7,
      "outputs": [
        {
          "output_type": "stream",
          "text": [
            "Found 840 images belonging to 2 classes.\n"
          ],
          "name": "stdout"
        }
      ]
    },
    {
      "cell_type": "code",
      "metadata": {
        "id": "tGLWVSz5S0Um",
        "colab_type": "code",
        "outputId": "6e7930d3-c05c-44d5-87f5-b8e5ca7041dc",
        "colab": {
          "base_uri": "https://localhost:8080/",
          "height": 34
        }
      },
      "source": [
        "data_train.class_indices"
      ],
      "execution_count": 8,
      "outputs": [
        {
          "output_type": "execute_result",
          "data": {
            "text/plain": [
              "{'Laki-laki': 0, 'Perempuan': 1}"
            ]
          },
          "metadata": {
            "tags": []
          },
          "execution_count": 8
        }
      ]
    },
    {
      "cell_type": "markdown",
      "metadata": {
        "id": "KWTmZeYimd5j",
        "colab_type": "text"
      },
      "source": [
        "## CNN ARCHITECTURE\n"
      ]
    },
    {
      "cell_type": "code",
      "metadata": {
        "id": "c7zztgyWS0Us",
        "colab_type": "code",
        "colab": {}
      },
      "source": [
        "model = Sequential([\n",
        "        Conv2D(32, 3, padding = 'same', activation = 'relu', input_shape = im_size2),\n",
        "        MaxPool2D(),                                            \n",
        "        Conv2D(64, 3, padding = 'same', activation = 'relu'),\n",
        "        MaxPool2D(),                                            \n",
        "        Conv2D(128, 3, padding = 'same', activation = 'relu'),\n",
        "        MaxPool2D(),\n",
        "        Conv2D(256, 3, padding = 'same', activation = 'relu'),\n",
        "        MaxPool2D(),\n",
        "        Conv2D(512, 3, padding = 'same', activation = 'relu'),\n",
        "        GlobalAveragePooling2D(),\n",
        "        Dense(512, activation='relu'),\n",
        "        Dropout(0.5),\n",
        "        Dense(data_train.num_classes, activation='sigmoid')\n",
        "])\n",
        "\n",
        "model.compile(loss='binary_crossentropy', optimizer='adam', metrics=['accuracy'])"
      ],
      "execution_count": 0,
      "outputs": []
    },
    {
      "cell_type": "markdown",
      "metadata": {
        "id": "R4DzMD_Ym9Wl",
        "colab_type": "text"
      },
      "source": [
        "### Make some checkpoint during training"
      ]
    },
    {
      "cell_type": "code",
      "metadata": {
        "id": "g7ZV5VdYdcSo",
        "colab_type": "code",
        "colab": {}
      },
      "source": [
        "checkpoint_path = \"/gdrive/My Drive/sisrec/cp.ckpt\"\n",
        "checkpoint_dir = os.path.dirname(checkpoint_path)\n",
        "\n",
        "# Create a callback that saves the model's weights\n",
        "cp_callback = tf.keras.callbacks.ModelCheckpoint(filepath=checkpoint_path,\n",
        "                                                 save_weights_only=True,\n",
        "                                                 verbose=1)"
      ],
      "execution_count": 0,
      "outputs": []
    },
    {
      "cell_type": "code",
      "metadata": {
        "id": "oHm-mGvAS0Uv",
        "colab_type": "code",
        "outputId": "816ad5d0-11d9-4ef5-9ae6-80a714afeb9a",
        "colab": {
          "base_uri": "https://localhost:8080/",
          "height": 1000
        }
      },
      "source": [
        "history = model.fit_generator(data_train, epochs = 100, callbacks=[cp_callback])"
      ],
      "execution_count": 0,
      "outputs": [
        {
          "output_type": "stream",
          "text": [
            "WARNING:tensorflow:From <ipython-input-19-cb318e0f5263>:1: Model.fit_generator (from tensorflow.python.keras.engine.training) is deprecated and will be removed in a future version.\n",
            "Instructions for updating:\n",
            "Please use Model.fit, which supports generators.\n",
            "WARNING:tensorflow:sample_weight modes were coerced from\n",
            "  ...\n",
            "    to  \n",
            "  ['...']\n",
            "Train for 9 steps\n",
            "Epoch 1/100\n",
            "8/9 [=========================>....] - ETA: 1s - loss: 0.6952 - accuracy: 0.4953\n",
            "Epoch 00001: saving model to /gdrive/My Drive/sisrec/cp.ckpt\n",
            "9/9 [==============================] - 14s 2s/step - loss: 0.6950 - accuracy: 0.5030\n",
            "Epoch 2/100\n",
            "8/9 [=========================>....] - ETA: 1s - loss: 0.6933 - accuracy: 0.5169\n",
            "Epoch 00002: saving model to /gdrive/My Drive/sisrec/cp.ckpt\n",
            "9/9 [==============================] - 12s 1s/step - loss: 0.6932 - accuracy: 0.5167\n",
            "Epoch 3/100\n",
            "8/9 [=========================>....] - ETA: 1s - loss: 0.6918 - accuracy: 0.5162\n",
            "Epoch 00003: saving model to /gdrive/My Drive/sisrec/cp.ckpt\n",
            "9/9 [==============================] - 12s 1s/step - loss: 0.6918 - accuracy: 0.5167\n",
            "Epoch 4/100\n",
            "8/9 [=========================>....] - ETA: 1s - loss: 0.6915 - accuracy: 0.5284\n",
            "Epoch 00004: saving model to /gdrive/My Drive/sisrec/cp.ckpt\n",
            "9/9 [==============================] - 12s 1s/step - loss: 0.6899 - accuracy: 0.5321\n",
            "Epoch 5/100\n",
            "8/9 [=========================>....] - ETA: 1s - loss: 0.6901 - accuracy: 0.5135\n",
            "Epoch 00005: saving model to /gdrive/My Drive/sisrec/cp.ckpt\n",
            "9/9 [==============================] - 12s 1s/step - loss: 0.6895 - accuracy: 0.5155\n",
            "Epoch 6/100\n",
            "8/9 [=========================>....] - ETA: 1s - loss: 0.6852 - accuracy: 0.5547\n",
            "Epoch 00006: saving model to /gdrive/My Drive/sisrec/cp.ckpt\n",
            "9/9 [==============================] - 12s 1s/step - loss: 0.6862 - accuracy: 0.5506\n",
            "Epoch 7/100\n",
            "8/9 [=========================>....] - ETA: 1s - loss: 0.6845 - accuracy: 0.5669\n",
            "Epoch 00007: saving model to /gdrive/My Drive/sisrec/cp.ckpt\n",
            "9/9 [==============================] - 12s 1s/step - loss: 0.6830 - accuracy: 0.5738\n",
            "Epoch 8/100\n",
            "8/9 [=========================>....] - ETA: 1s - loss: 0.6843 - accuracy: 0.5256\n",
            "Epoch 00008: saving model to /gdrive/My Drive/sisrec/cp.ckpt\n",
            "9/9 [==============================] - 12s 1s/step - loss: 0.6846 - accuracy: 0.5244\n",
            "Epoch 9/100\n",
            "8/9 [=========================>....] - ETA: 1s - loss: 0.6833 - accuracy: 0.5764\n",
            "Epoch 00009: saving model to /gdrive/My Drive/sisrec/cp.ckpt\n",
            "9/9 [==============================] - 12s 1s/step - loss: 0.6826 - accuracy: 0.5786\n",
            "Epoch 10/100\n",
            "8/9 [=========================>....] - ETA: 1s - loss: 0.6648 - accuracy: 0.5993\n",
            "Epoch 00010: saving model to /gdrive/My Drive/sisrec/cp.ckpt\n",
            "9/9 [==============================] - 12s 1s/step - loss: 0.6689 - accuracy: 0.5952\n",
            "Epoch 11/100\n",
            "8/9 [=========================>....] - ETA: 1s - loss: 0.6529 - accuracy: 0.6236\n",
            "Epoch 00011: saving model to /gdrive/My Drive/sisrec/cp.ckpt\n",
            "9/9 [==============================] - 12s 1s/step - loss: 0.6612 - accuracy: 0.6095\n",
            "Epoch 12/100\n",
            "8/9 [=========================>....] - ETA: 1s - loss: 0.6660 - accuracy: 0.6000\n",
            "Epoch 00012: saving model to /gdrive/My Drive/sisrec/cp.ckpt\n",
            "9/9 [==============================] - 12s 1s/step - loss: 0.6639 - accuracy: 0.6083\n",
            "Epoch 13/100\n",
            "8/9 [=========================>....] - ETA: 1s - loss: 0.6632 - accuracy: 0.5878\n",
            "Epoch 00013: saving model to /gdrive/My Drive/sisrec/cp.ckpt\n",
            "9/9 [==============================] - 12s 1s/step - loss: 0.6613 - accuracy: 0.5976\n",
            "Epoch 14/100\n",
            "8/9 [=========================>....] - ETA: 1s - loss: 0.6622 - accuracy: 0.6223\n",
            "Epoch 00014: saving model to /gdrive/My Drive/sisrec/cp.ckpt\n",
            "9/9 [==============================] - 12s 1s/step - loss: 0.6642 - accuracy: 0.6173\n",
            "Epoch 15/100\n",
            "8/9 [=========================>....] - ETA: 1s - loss: 0.6637 - accuracy: 0.6257\n",
            "Epoch 00015: saving model to /gdrive/My Drive/sisrec/cp.ckpt\n",
            "9/9 [==============================] - 12s 1s/step - loss: 0.6613 - accuracy: 0.6304\n",
            "Epoch 16/100\n",
            "8/9 [=========================>....] - ETA: 1s - loss: 0.6555 - accuracy: 0.6182\n",
            "Epoch 00016: saving model to /gdrive/My Drive/sisrec/cp.ckpt\n",
            "9/9 [==============================] - 12s 1s/step - loss: 0.6550 - accuracy: 0.6208\n",
            "Epoch 17/100\n",
            "8/9 [=========================>....] - ETA: 1s - loss: 0.6479 - accuracy: 0.6405\n",
            "Epoch 00017: saving model to /gdrive/My Drive/sisrec/cp.ckpt\n",
            "9/9 [==============================] - 12s 1s/step - loss: 0.6490 - accuracy: 0.6375\n",
            "Epoch 18/100\n",
            "8/9 [=========================>....] - ETA: 1s - loss: 0.6474 - accuracy: 0.6284\n",
            "Epoch 00018: saving model to /gdrive/My Drive/sisrec/cp.ckpt\n",
            "9/9 [==============================] - 12s 1s/step - loss: 0.6410 - accuracy: 0.6440\n",
            "Epoch 19/100\n",
            "8/9 [=========================>....] - ETA: 1s - loss: 0.6400 - accuracy: 0.6412\n",
            "Epoch 00019: saving model to /gdrive/My Drive/sisrec/cp.ckpt\n",
            "9/9 [==============================] - 12s 1s/step - loss: 0.6424 - accuracy: 0.6452\n",
            "Epoch 20/100\n",
            "8/9 [=========================>....] - ETA: 1s - loss: 0.6602 - accuracy: 0.6212\n",
            "Epoch 00020: saving model to /gdrive/My Drive/sisrec/cp.ckpt\n",
            "9/9 [==============================] - 12s 1s/step - loss: 0.6562 - accuracy: 0.6250\n",
            "Epoch 21/100\n",
            "8/9 [=========================>....] - ETA: 1s - loss: 0.6406 - accuracy: 0.6459\n",
            "Epoch 00021: saving model to /gdrive/My Drive/sisrec/cp.ckpt\n",
            "9/9 [==============================] - 12s 1s/step - loss: 0.6422 - accuracy: 0.6464\n",
            "Epoch 22/100\n",
            "8/9 [=========================>....] - ETA: 1s - loss: 0.6157 - accuracy: 0.6797\n",
            "Epoch 00022: saving model to /gdrive/My Drive/sisrec/cp.ckpt\n",
            "9/9 [==============================] - 12s 1s/step - loss: 0.6157 - accuracy: 0.6827\n",
            "Epoch 23/100\n",
            "8/9 [=========================>....] - ETA: 1s - loss: 0.6078 - accuracy: 0.6757\n",
            "Epoch 00023: saving model to /gdrive/My Drive/sisrec/cp.ckpt\n",
            "9/9 [==============================] - 12s 1s/step - loss: 0.6254 - accuracy: 0.6637\n",
            "Epoch 24/100\n",
            "8/9 [=========================>....] - ETA: 1s - loss: 0.6176 - accuracy: 0.6851\n",
            "Epoch 00024: saving model to /gdrive/My Drive/sisrec/cp.ckpt\n",
            "9/9 [==============================] - 12s 1s/step - loss: 0.6116 - accuracy: 0.6935\n",
            "Epoch 25/100\n",
            "8/9 [=========================>....] - ETA: 1s - loss: 0.6006 - accuracy: 0.6878\n",
            "Epoch 00025: saving model to /gdrive/My Drive/sisrec/cp.ckpt\n",
            "9/9 [==============================] - 12s 1s/step - loss: 0.5966 - accuracy: 0.6946\n",
            "Epoch 26/100\n",
            "8/9 [=========================>....] - ETA: 1s - loss: 0.5831 - accuracy: 0.6838\n",
            "Epoch 00026: saving model to /gdrive/My Drive/sisrec/cp.ckpt\n",
            "9/9 [==============================] - 12s 1s/step - loss: 0.5742 - accuracy: 0.6976\n",
            "Epoch 27/100\n",
            "8/9 [=========================>....] - ETA: 1s - loss: 0.5856 - accuracy: 0.6838\n",
            "Epoch 00027: saving model to /gdrive/My Drive/sisrec/cp.ckpt\n",
            "9/9 [==============================] - 12s 1s/step - loss: 0.5883 - accuracy: 0.6827\n",
            "Epoch 28/100\n",
            "8/9 [=========================>....] - ETA: 1s - loss: 0.5658 - accuracy: 0.7020\n",
            "Epoch 00028: saving model to /gdrive/My Drive/sisrec/cp.ckpt\n",
            "9/9 [==============================] - 12s 1s/step - loss: 0.5614 - accuracy: 0.7048\n",
            "Epoch 29/100\n",
            "8/9 [=========================>....] - ETA: 1s - loss: 0.5434 - accuracy: 0.7358\n",
            "Epoch 00029: saving model to /gdrive/My Drive/sisrec/cp.ckpt\n",
            "9/9 [==============================] - 12s 1s/step - loss: 0.5484 - accuracy: 0.7298\n",
            "Epoch 30/100\n",
            "8/9 [=========================>....] - ETA: 1s - loss: 0.5886 - accuracy: 0.6777\n",
            "Epoch 00030: saving model to /gdrive/My Drive/sisrec/cp.ckpt\n",
            "9/9 [==============================] - 12s 1s/step - loss: 0.5913 - accuracy: 0.6804\n",
            "Epoch 31/100\n",
            "8/9 [=========================>....] - ETA: 1s - loss: 0.5520 - accuracy: 0.7304\n",
            "Epoch 00031: saving model to /gdrive/My Drive/sisrec/cp.ckpt\n",
            "9/9 [==============================] - 12s 1s/step - loss: 0.5596 - accuracy: 0.7226\n",
            "Epoch 32/100\n",
            "8/9 [=========================>....] - ETA: 1s - loss: 0.5492 - accuracy: 0.7250\n",
            "Epoch 00032: saving model to /gdrive/My Drive/sisrec/cp.ckpt\n",
            "9/9 [==============================] - 12s 1s/step - loss: 0.5429 - accuracy: 0.7345\n",
            "Epoch 33/100\n",
            "8/9 [=========================>....] - ETA: 1s - loss: 0.5746 - accuracy: 0.7108\n",
            "Epoch 00033: saving model to /gdrive/My Drive/sisrec/cp.ckpt\n",
            "9/9 [==============================] - 12s 1s/step - loss: 0.5865 - accuracy: 0.7107\n",
            "Epoch 34/100\n",
            "8/9 [=========================>....] - ETA: 1s - loss: 0.5441 - accuracy: 0.7351\n",
            "Epoch 00034: saving model to /gdrive/My Drive/sisrec/cp.ckpt\n",
            "9/9 [==============================] - 12s 1s/step - loss: 0.5451 - accuracy: 0.7357\n",
            "Epoch 35/100\n",
            "8/9 [=========================>....] - ETA: 1s - loss: 0.5298 - accuracy: 0.7331\n",
            "Epoch 00035: saving model to /gdrive/My Drive/sisrec/cp.ckpt\n",
            "9/9 [==============================] - 12s 1s/step - loss: 0.5392 - accuracy: 0.7286\n",
            "Epoch 36/100\n",
            "8/9 [=========================>....] - ETA: 1s - loss: 0.5196 - accuracy: 0.7534\n",
            "Epoch 00036: saving model to /gdrive/My Drive/sisrec/cp.ckpt\n",
            "9/9 [==============================] - 12s 1s/step - loss: 0.5266 - accuracy: 0.7571\n",
            "Epoch 37/100\n",
            "8/9 [=========================>....] - ETA: 1s - loss: 0.5321 - accuracy: 0.7318\n",
            "Epoch 00037: saving model to /gdrive/My Drive/sisrec/cp.ckpt\n",
            "9/9 [==============================] - 12s 1s/step - loss: 0.5282 - accuracy: 0.7381\n",
            "Epoch 38/100\n",
            "8/9 [=========================>....] - ETA: 1s - loss: 0.5451 - accuracy: 0.7281\n",
            "Epoch 00038: saving model to /gdrive/My Drive/sisrec/cp.ckpt\n",
            "9/9 [==============================] - 12s 1s/step - loss: 0.5329 - accuracy: 0.7345\n",
            "Epoch 39/100\n",
            "8/9 [=========================>....] - ETA: 1s - loss: 0.5103 - accuracy: 0.7608\n",
            "Epoch 00039: saving model to /gdrive/My Drive/sisrec/cp.ckpt\n",
            "9/9 [==============================] - 12s 1s/step - loss: 0.5088 - accuracy: 0.7625\n",
            "Epoch 40/100\n",
            "8/9 [=========================>....] - ETA: 1s - loss: 0.4977 - accuracy: 0.7588\n",
            "Epoch 00040: saving model to /gdrive/My Drive/sisrec/cp.ckpt\n",
            "9/9 [==============================] - 12s 1s/step - loss: 0.4959 - accuracy: 0.7625\n",
            "Epoch 41/100\n",
            "8/9 [=========================>....] - ETA: 1s - loss: 0.4757 - accuracy: 0.7662\n",
            "Epoch 00041: saving model to /gdrive/My Drive/sisrec/cp.ckpt\n",
            "9/9 [==============================] - 12s 1s/step - loss: 0.4739 - accuracy: 0.7685\n",
            "Epoch 42/100\n",
            "8/9 [=========================>....] - ETA: 1s - loss: 0.4780 - accuracy: 0.7750\n",
            "Epoch 00042: saving model to /gdrive/My Drive/sisrec/cp.ckpt\n",
            "9/9 [==============================] - 12s 1s/step - loss: 0.4838 - accuracy: 0.7732\n",
            "Epoch 43/100\n",
            "8/9 [=========================>....] - ETA: 1s - loss: 0.4810 - accuracy: 0.7770\n",
            "Epoch 00043: saving model to /gdrive/My Drive/sisrec/cp.ckpt\n",
            "9/9 [==============================] - 12s 1s/step - loss: 0.4768 - accuracy: 0.7839\n",
            "Epoch 44/100\n",
            "8/9 [=========================>....] - ETA: 1s - loss: 0.4976 - accuracy: 0.7730\n",
            "Epoch 00044: saving model to /gdrive/My Drive/sisrec/cp.ckpt\n",
            "9/9 [==============================] - 12s 1s/step - loss: 0.5036 - accuracy: 0.7655\n",
            "Epoch 45/100\n",
            "8/9 [=========================>....] - ETA: 1s - loss: 0.5038 - accuracy: 0.7650\n",
            "Epoch 00045: saving model to /gdrive/My Drive/sisrec/cp.ckpt\n",
            "9/9 [==============================] - 12s 1s/step - loss: 0.4962 - accuracy: 0.7637\n",
            "Epoch 46/100\n",
            "8/9 [=========================>....] - ETA: 1s - loss: 0.4505 - accuracy: 0.7973\n",
            "Epoch 00046: saving model to /gdrive/My Drive/sisrec/cp.ckpt\n",
            "9/9 [==============================] - 13s 1s/step - loss: 0.4582 - accuracy: 0.7940\n",
            "Epoch 47/100\n",
            "8/9 [=========================>....] - ETA: 1s - loss: 0.4824 - accuracy: 0.7568\n",
            "Epoch 00047: saving model to /gdrive/My Drive/sisrec/cp.ckpt\n",
            "9/9 [==============================] - 12s 1s/step - loss: 0.4947 - accuracy: 0.7494\n",
            "Epoch 48/100\n",
            "8/9 [=========================>....] - ETA: 1s - loss: 0.4781 - accuracy: 0.7520\n",
            "Epoch 00048: saving model to /gdrive/My Drive/sisrec/cp.ckpt\n",
            "9/9 [==============================] - 12s 1s/step - loss: 0.4801 - accuracy: 0.7571\n",
            "Epoch 49/100\n",
            "8/9 [=========================>....] - ETA: 1s - loss: 0.4502 - accuracy: 0.7966\n",
            "Epoch 00049: saving model to /gdrive/My Drive/sisrec/cp.ckpt\n",
            "9/9 [==============================] - 12s 1s/step - loss: 0.4549 - accuracy: 0.7917\n",
            "Epoch 50/100\n",
            "8/9 [=========================>....] - ETA: 1s - loss: 0.4015 - accuracy: 0.8128\n",
            "Epoch 00050: saving model to /gdrive/My Drive/sisrec/cp.ckpt\n",
            "9/9 [==============================] - 12s 1s/step - loss: 0.4084 - accuracy: 0.8113\n",
            "Epoch 51/100\n",
            "8/9 [=========================>....] - ETA: 1s - loss: 0.4836 - accuracy: 0.7628\n",
            "Epoch 00051: saving model to /gdrive/My Drive/sisrec/cp.ckpt\n",
            "9/9 [==============================] - 12s 1s/step - loss: 0.4981 - accuracy: 0.7583\n",
            "Epoch 52/100\n",
            "8/9 [=========================>....] - ETA: 1s - loss: 0.4735 - accuracy: 0.7912\n",
            "Epoch 00052: saving model to /gdrive/My Drive/sisrec/cp.ckpt\n",
            "9/9 [==============================] - 12s 1s/step - loss: 0.4723 - accuracy: 0.7899\n",
            "Epoch 53/100\n",
            "8/9 [=========================>....] - ETA: 1s - loss: 0.4689 - accuracy: 0.7507\n",
            "Epoch 00053: saving model to /gdrive/My Drive/sisrec/cp.ckpt\n",
            "9/9 [==============================] - 12s 1s/step - loss: 0.4701 - accuracy: 0.7506\n",
            "Epoch 54/100\n",
            "8/9 [=========================>....] - ETA: 1s - loss: 0.4309 - accuracy: 0.7804\n",
            "Epoch 00054: saving model to /gdrive/My Drive/sisrec/cp.ckpt\n",
            "9/9 [==============================] - 12s 1s/step - loss: 0.4364 - accuracy: 0.7804\n",
            "Epoch 55/100\n",
            "8/9 [=========================>....] - ETA: 1s - loss: 0.4086 - accuracy: 0.8074\n",
            "Epoch 00055: saving model to /gdrive/My Drive/sisrec/cp.ckpt\n",
            "9/9 [==============================] - 12s 1s/step - loss: 0.4096 - accuracy: 0.8107\n",
            "Epoch 56/100\n",
            "8/9 [=========================>....] - ETA: 1s - loss: 0.4068 - accuracy: 0.8034\n",
            "Epoch 00056: saving model to /gdrive/My Drive/sisrec/cp.ckpt\n",
            "9/9 [==============================] - 12s 1s/step - loss: 0.4060 - accuracy: 0.8042\n",
            "Epoch 57/100\n",
            "8/9 [=========================>....] - ETA: 1s - loss: 0.3973 - accuracy: 0.8081\n",
            "Epoch 00057: saving model to /gdrive/My Drive/sisrec/cp.ckpt\n",
            "9/9 [==============================] - 12s 1s/step - loss: 0.3923 - accuracy: 0.8083\n",
            "Epoch 58/100\n",
            "8/9 [=========================>....] - ETA: 1s - loss: 0.4213 - accuracy: 0.8115\n",
            "Epoch 00058: saving model to /gdrive/My Drive/sisrec/cp.ckpt\n",
            "9/9 [==============================] - 12s 1s/step - loss: 0.4197 - accuracy: 0.8107\n",
            "Epoch 59/100\n",
            "8/9 [=========================>....] - ETA: 1s - loss: 0.4181 - accuracy: 0.7939\n",
            "Epoch 00059: saving model to /gdrive/My Drive/sisrec/cp.ckpt\n",
            "9/9 [==============================] - 12s 1s/step - loss: 0.4163 - accuracy: 0.7964\n",
            "Epoch 60/100\n",
            "8/9 [=========================>....] - ETA: 1s - loss: 0.3999 - accuracy: 0.8244\n",
            "Epoch 00060: saving model to /gdrive/My Drive/sisrec/cp.ckpt\n",
            "9/9 [==============================] - 12s 1s/step - loss: 0.3943 - accuracy: 0.8256\n",
            "Epoch 61/100\n",
            "8/9 [=========================>....] - ETA: 1s - loss: 0.4104 - accuracy: 0.8250\n",
            "Epoch 00061: saving model to /gdrive/My Drive/sisrec/cp.ckpt\n",
            "9/9 [==============================] - 12s 1s/step - loss: 0.4047 - accuracy: 0.8256\n",
            "Epoch 62/100\n",
            "8/9 [=========================>....] - ETA: 1s - loss: 0.3631 - accuracy: 0.8230\n",
            "Epoch 00062: saving model to /gdrive/My Drive/sisrec/cp.ckpt\n",
            "9/9 [==============================] - 12s 1s/step - loss: 0.3631 - accuracy: 0.8268\n",
            "Epoch 63/100\n",
            "8/9 [=========================>....] - ETA: 1s - loss: 0.3688 - accuracy: 0.8318\n",
            "Epoch 00063: saving model to /gdrive/My Drive/sisrec/cp.ckpt\n",
            "9/9 [==============================] - 12s 1s/step - loss: 0.3857 - accuracy: 0.8167\n",
            "Epoch 64/100\n",
            "8/9 [=========================>....] - ETA: 1s - loss: 0.4320 - accuracy: 0.8014\n",
            "Epoch 00064: saving model to /gdrive/My Drive/sisrec/cp.ckpt\n",
            "9/9 [==============================] - 12s 1s/step - loss: 0.4352 - accuracy: 0.7994\n",
            "Epoch 65/100\n",
            "8/9 [=========================>....] - ETA: 1s - loss: 0.3891 - accuracy: 0.8250\n",
            "Epoch 00065: saving model to /gdrive/My Drive/sisrec/cp.ckpt\n",
            "9/9 [==============================] - 12s 1s/step - loss: 0.3895 - accuracy: 0.8280\n",
            "Epoch 66/100\n",
            "8/9 [=========================>....] - ETA: 1s - loss: 0.3499 - accuracy: 0.8432\n",
            "Epoch 00066: saving model to /gdrive/My Drive/sisrec/cp.ckpt\n",
            "9/9 [==============================] - 12s 1s/step - loss: 0.3620 - accuracy: 0.8381\n",
            "Epoch 67/100\n",
            "8/9 [=========================>....] - ETA: 1s - loss: 0.3391 - accuracy: 0.8486\n",
            "Epoch 00067: saving model to /gdrive/My Drive/sisrec/cp.ckpt\n",
            "9/9 [==============================] - 12s 1s/step - loss: 0.3443 - accuracy: 0.8488\n",
            "Epoch 68/100\n",
            "8/9 [=========================>....] - ETA: 1s - loss: 0.3478 - accuracy: 0.8450\n",
            "Epoch 00068: saving model to /gdrive/My Drive/sisrec/cp.ckpt\n",
            "9/9 [==============================] - 12s 1s/step - loss: 0.3385 - accuracy: 0.8470\n",
            "Epoch 69/100\n",
            "8/9 [=========================>....] - ETA: 1s - loss: 0.3309 - accuracy: 0.8556\n",
            "Epoch 00069: saving model to /gdrive/My Drive/sisrec/cp.ckpt\n",
            "9/9 [==============================] - 12s 1s/step - loss: 0.3224 - accuracy: 0.8554\n",
            "Epoch 70/100\n",
            "8/9 [=========================>....] - ETA: 1s - loss: 0.3720 - accuracy: 0.8345\n",
            "Epoch 00070: saving model to /gdrive/My Drive/sisrec/cp.ckpt\n",
            "9/9 [==============================] - 12s 1s/step - loss: 0.3691 - accuracy: 0.8351\n",
            "Epoch 71/100\n",
            "8/9 [=========================>....] - ETA: 1s - loss: 0.3280 - accuracy: 0.8574\n",
            "Epoch 00071: saving model to /gdrive/My Drive/sisrec/cp.ckpt\n",
            "9/9 [==============================] - 13s 1s/step - loss: 0.3243 - accuracy: 0.8577\n",
            "Epoch 72/100\n",
            "8/9 [=========================>....] - ETA: 1s - loss: 0.3382 - accuracy: 0.8541\n",
            "Epoch 00072: saving model to /gdrive/My Drive/sisrec/cp.ckpt\n",
            "9/9 [==============================] - 12s 1s/step - loss: 0.3312 - accuracy: 0.8601\n",
            "Epoch 73/100\n",
            "8/9 [=========================>....] - ETA: 1s - loss: 0.2975 - accuracy: 0.8669\n",
            "Epoch 00073: saving model to /gdrive/My Drive/sisrec/cp.ckpt\n",
            "9/9 [==============================] - 12s 1s/step - loss: 0.2952 - accuracy: 0.8679\n",
            "Epoch 74/100\n",
            "8/9 [=========================>....] - ETA: 1s - loss: 0.2974 - accuracy: 0.8682\n",
            "Epoch 00074: saving model to /gdrive/My Drive/sisrec/cp.ckpt\n",
            "9/9 [==============================] - 12s 1s/step - loss: 0.3099 - accuracy: 0.8607\n",
            "Epoch 75/100\n",
            "8/9 [=========================>....] - ETA: 1s - loss: 0.3276 - accuracy: 0.8561\n",
            "Epoch 00075: saving model to /gdrive/My Drive/sisrec/cp.ckpt\n",
            "9/9 [==============================] - 12s 1s/step - loss: 0.3222 - accuracy: 0.8595\n",
            "Epoch 76/100\n",
            "8/9 [=========================>....] - ETA: 1s - loss: 0.2913 - accuracy: 0.8642\n",
            "Epoch 00076: saving model to /gdrive/My Drive/sisrec/cp.ckpt\n",
            "9/9 [==============================] - 12s 1s/step - loss: 0.2805 - accuracy: 0.8738\n",
            "Epoch 77/100\n",
            "8/9 [=========================>....] - ETA: 1s - loss: 0.3132 - accuracy: 0.8851\n",
            "Epoch 00077: saving model to /gdrive/My Drive/sisrec/cp.ckpt\n",
            "9/9 [==============================] - 12s 1s/step - loss: 0.3104 - accuracy: 0.8851\n",
            "Epoch 78/100\n",
            "8/9 [=========================>....] - ETA: 1s - loss: 0.2541 - accuracy: 0.8872\n",
            "Epoch 00078: saving model to /gdrive/My Drive/sisrec/cp.ckpt\n",
            "9/9 [==============================] - 12s 1s/step - loss: 0.2572 - accuracy: 0.8905\n",
            "Epoch 79/100\n",
            "8/9 [=========================>....] - ETA: 1s - loss: 0.2829 - accuracy: 0.8845\n",
            "Epoch 00079: saving model to /gdrive/My Drive/sisrec/cp.ckpt\n",
            "9/9 [==============================] - 12s 1s/step - loss: 0.2772 - accuracy: 0.8887\n",
            "Epoch 80/100\n",
            "8/9 [=========================>....] - ETA: 1s - loss: 0.3211 - accuracy: 0.8676\n",
            "Epoch 00080: saving model to /gdrive/My Drive/sisrec/cp.ckpt\n",
            "9/9 [==============================] - 12s 1s/step - loss: 0.3234 - accuracy: 0.8661\n",
            "Epoch 81/100\n",
            "8/9 [=========================>....] - ETA: 1s - loss: 0.2933 - accuracy: 0.8824\n",
            "Epoch 00081: saving model to /gdrive/My Drive/sisrec/cp.ckpt\n",
            "9/9 [==============================] - 12s 1s/step - loss: 0.2980 - accuracy: 0.8815\n",
            "Epoch 82/100\n",
            "8/9 [=========================>....] - ETA: 1s - loss: 0.2920 - accuracy: 0.8791\n",
            "Epoch 00082: saving model to /gdrive/My Drive/sisrec/cp.ckpt\n",
            "9/9 [==============================] - 12s 1s/step - loss: 0.2879 - accuracy: 0.8786\n",
            "Epoch 83/100\n",
            "8/9 [=========================>....] - ETA: 1s - loss: 0.2524 - accuracy: 0.8892\n",
            "Epoch 00083: saving model to /gdrive/My Drive/sisrec/cp.ckpt\n",
            "9/9 [==============================] - 12s 1s/step - loss: 0.2500 - accuracy: 0.8917\n",
            "Epoch 84/100\n",
            "8/9 [=========================>....] - ETA: 1s - loss: 0.2463 - accuracy: 0.8986\n",
            "Epoch 00084: saving model to /gdrive/My Drive/sisrec/cp.ckpt\n",
            "9/9 [==============================] - 12s 1s/step - loss: 0.2584 - accuracy: 0.8923\n",
            "Epoch 85/100\n",
            "8/9 [=========================>....] - ETA: 1s - loss: 0.2162 - accuracy: 0.9135\n",
            "Epoch 00085: saving model to /gdrive/My Drive/sisrec/cp.ckpt\n",
            "9/9 [==============================] - 12s 1s/step - loss: 0.2259 - accuracy: 0.9083\n",
            "Epoch 86/100\n",
            "8/9 [=========================>....] - ETA: 1s - loss: 0.2813 - accuracy: 0.8723\n",
            "Epoch 00086: saving model to /gdrive/My Drive/sisrec/cp.ckpt\n",
            "9/9 [==============================] - 12s 1s/step - loss: 0.2766 - accuracy: 0.8780\n",
            "Epoch 87/100\n",
            "8/9 [=========================>....] - ETA: 1s - loss: 0.2409 - accuracy: 0.8959\n",
            "Epoch 00087: saving model to /gdrive/My Drive/sisrec/cp.ckpt\n",
            "9/9 [==============================] - 12s 1s/step - loss: 0.2426 - accuracy: 0.8976\n",
            "Epoch 88/100\n",
            "8/9 [=========================>....] - ETA: 1s - loss: 0.2254 - accuracy: 0.9150\n",
            "Epoch 00088: saving model to /gdrive/My Drive/sisrec/cp.ckpt\n",
            "9/9 [==============================] - 12s 1s/step - loss: 0.2179 - accuracy: 0.9143\n",
            "Epoch 89/100\n",
            "8/9 [=========================>....] - ETA: 1s - loss: 0.2208 - accuracy: 0.8973\n",
            "Epoch 00089: saving model to /gdrive/My Drive/sisrec/cp.ckpt\n",
            "9/9 [==============================] - 12s 1s/step - loss: 0.2320 - accuracy: 0.8958\n",
            "Epoch 90/100\n",
            "8/9 [=========================>....] - ETA: 1s - loss: 0.2591 - accuracy: 0.8925\n",
            "Epoch 00090: saving model to /gdrive/My Drive/sisrec/cp.ckpt\n",
            "9/9 [==============================] - 12s 1s/step - loss: 0.2492 - accuracy: 0.8952\n",
            "Epoch 91/100\n",
            "8/9 [=========================>....] - ETA: 1s - loss: 0.2413 - accuracy: 0.8986\n",
            "Epoch 00091: saving model to /gdrive/My Drive/sisrec/cp.ckpt\n",
            "9/9 [==============================] - 12s 1s/step - loss: 0.2381 - accuracy: 0.9000\n",
            "Epoch 92/100\n",
            "8/9 [=========================>....] - ETA: 1s - loss: 0.1998 - accuracy: 0.9068\n",
            "Epoch 00092: saving model to /gdrive/My Drive/sisrec/cp.ckpt\n",
            "9/9 [==============================] - 12s 1s/step - loss: 0.2025 - accuracy: 0.9060\n",
            "Epoch 93/100\n",
            "8/9 [=========================>....] - ETA: 1s - loss: 0.2152 - accuracy: 0.8953\n",
            "Epoch 00093: saving model to /gdrive/My Drive/sisrec/cp.ckpt\n",
            "9/9 [==============================] - 12s 1s/step - loss: 0.2095 - accuracy: 0.9030\n",
            "Epoch 94/100\n",
            "8/9 [=========================>....] - ETA: 1s - loss: 0.1912 - accuracy: 0.9257\n",
            "Epoch 00094: saving model to /gdrive/My Drive/sisrec/cp.ckpt\n",
            "9/9 [==============================] - 12s 1s/step - loss: 0.1960 - accuracy: 0.9262\n",
            "Epoch 95/100\n",
            "8/9 [=========================>....] - ETA: 1s - loss: 0.1677 - accuracy: 0.9257\n",
            "Epoch 00095: saving model to /gdrive/My Drive/sisrec/cp.ckpt\n",
            "9/9 [==============================] - 12s 1s/step - loss: 0.1675 - accuracy: 0.9280\n",
            "Epoch 96/100\n",
            "8/9 [=========================>....] - ETA: 1s - loss: 0.1753 - accuracy: 0.9257\n",
            "Epoch 00096: saving model to /gdrive/My Drive/sisrec/cp.ckpt\n",
            "9/9 [==============================] - 12s 1s/step - loss: 0.1724 - accuracy: 0.9298\n",
            "Epoch 97/100\n",
            "8/9 [=========================>....] - ETA: 1s - loss: 0.1400 - accuracy: 0.9507\n",
            "Epoch 00097: saving model to /gdrive/My Drive/sisrec/cp.ckpt\n",
            "9/9 [==============================] - 13s 1s/step - loss: 0.1468 - accuracy: 0.9464\n",
            "Epoch 98/100\n",
            "8/9 [=========================>....] - ETA: 1s - loss: 0.1588 - accuracy: 0.9378\n",
            "Epoch 00098: saving model to /gdrive/My Drive/sisrec/cp.ckpt\n",
            "9/9 [==============================] - 12s 1s/step - loss: 0.1571 - accuracy: 0.9381\n",
            "Epoch 99/100\n",
            "8/9 [=========================>....] - ETA: 1s - loss: 0.2336 - accuracy: 0.9142\n",
            "Epoch 00099: saving model to /gdrive/My Drive/sisrec/cp.ckpt\n",
            "9/9 [==============================] - 12s 1s/step - loss: 0.2413 - accuracy: 0.9060\n",
            "Epoch 100/100\n",
            "8/9 [=========================>....] - ETA: 1s - loss: 0.2763 - accuracy: 0.8881\n",
            "Epoch 00100: saving model to /gdrive/My Drive/sisrec/cp.ckpt\n",
            "9/9 [==============================] - 12s 1s/step - loss: 0.2813 - accuracy: 0.8857\n"
          ],
          "name": "stdout"
        }
      ]
    },
    {
      "cell_type": "code",
      "metadata": {
        "id": "2aNFXZ6KS0U0",
        "colab_type": "code",
        "outputId": "e5106581-9988-4299-836a-ca055ebe4e1e",
        "colab": {
          "base_uri": "https://localhost:8080/",
          "height": 561
        }
      },
      "source": [
        "model.summary()"
      ],
      "execution_count": 0,
      "outputs": [
        {
          "output_type": "stream",
          "text": [
            "Model: \"sequential_1\"\n",
            "_________________________________________________________________\n",
            "Layer (type)                 Output Shape              Param #   \n",
            "=================================================================\n",
            "conv2d_5 (Conv2D)            (None, 256, 256, 32)      896       \n",
            "_________________________________________________________________\n",
            "max_pooling2d_3 (MaxPooling2 (None, 128, 128, 32)      0         \n",
            "_________________________________________________________________\n",
            "conv2d_6 (Conv2D)            (None, 128, 128, 64)      18496     \n",
            "_________________________________________________________________\n",
            "max_pooling2d_4 (MaxPooling2 (None, 64, 64, 64)        0         \n",
            "_________________________________________________________________\n",
            "conv2d_7 (Conv2D)            (None, 64, 64, 128)       73856     \n",
            "_________________________________________________________________\n",
            "max_pooling2d_5 (MaxPooling2 (None, 32, 32, 128)       0         \n",
            "_________________________________________________________________\n",
            "conv2d_8 (Conv2D)            (None, 32, 32, 256)       295168    \n",
            "_________________________________________________________________\n",
            "conv2d_9 (Conv2D)            (None, 32, 32, 512)       1180160   \n",
            "_________________________________________________________________\n",
            "global_average_pooling2d_1 ( (None, 512)               0         \n",
            "_________________________________________________________________\n",
            "dense_2 (Dense)              (None, 512)               262656    \n",
            "_________________________________________________________________\n",
            "dropout_1 (Dropout)          (None, 512)               0         \n",
            "_________________________________________________________________\n",
            "dense_3 (Dense)              (None, 2)                 1026      \n",
            "=================================================================\n",
            "Total params: 1,832,258\n",
            "Trainable params: 1,832,258\n",
            "Non-trainable params: 0\n",
            "_________________________________________________________________\n"
          ],
          "name": "stdout"
        }
      ]
    },
    {
      "cell_type": "markdown",
      "metadata": {
        "id": "QdqoucYrmTYG",
        "colab_type": "text"
      },
      "source": [
        "## LOAD MODEL"
      ]
    },
    {
      "cell_type": "code",
      "metadata": {
        "id": "IzZUO7_819dw",
        "colab_type": "code",
        "colab": {}
      },
      "source": [
        "from tensorflow.keras.models import load_model\n",
        "\n",
        "model = load_model('/gdrive/My Drive/sisrec/model_1.h5')"
      ],
      "execution_count": 0,
      "outputs": []
    },
    {
      "cell_type": "markdown",
      "metadata": {
        "id": "tIexe4ByrMHh",
        "colab_type": "text"
      },
      "source": [
        "# GENERATE DATATEST"
      ]
    },
    {
      "cell_type": "code",
      "metadata": {
        "id": "9CT3SzndrSCW",
        "colab_type": "code",
        "colab": {
          "base_uri": "https://localhost:8080/",
          "height": 34
        },
        "outputId": "f2770598-5aee-4e26-90c2-2a0ee7c0b0a7"
      },
      "source": [
        "test_datagen = ImageDataGenerator(\n",
        "    rescale = 1./255,\n",
        "    width_shift_range = 0.2, height_shift_range = 0.2,\n",
        "    zoom_range = 0.2\n",
        ")\n",
        "datatest = test_datagen.flow_from_directory(url_test,\n",
        "                                   target_size= im_size,\n",
        "                                   batch_size = 50,\n",
        "                                   class_mode = 'categorical')"
      ],
      "execution_count": 12,
      "outputs": [
        {
          "output_type": "stream",
          "text": [
            "Found 226 images belonging to 2 classes.\n"
          ],
          "name": "stdout"
        }
      ]
    },
    {
      "cell_type": "code",
      "metadata": {
        "id": "aKPEZpPrs1yv",
        "colab_type": "code",
        "colab": {
          "base_uri": "https://localhost:8080/",
          "height": 34
        },
        "outputId": "b640e88e-e524-4ecb-c768-78288b202406"
      },
      "source": [
        "datatest.class_indices"
      ],
      "execution_count": 13,
      "outputs": [
        {
          "output_type": "execute_result",
          "data": {
            "text/plain": [
              "{'Laki-laki': 0, 'Perempuan': 1}"
            ]
          },
          "metadata": {
            "tags": []
          },
          "execution_count": 13
        }
      ]
    },
    {
      "cell_type": "code",
      "metadata": {
        "id": "BlwKhi1GfkV6",
        "colab_type": "code",
        "outputId": "57a3c718-6065-433b-dabd-683176456cdf",
        "colab": {
          "base_uri": "https://localhost:8080/",
          "height": 102
        }
      },
      "source": [
        "model.evaluate_generator(datatest)"
      ],
      "execution_count": 15,
      "outputs": [
        {
          "output_type": "stream",
          "text": [
            "WARNING:tensorflow:sample_weight modes were coerced from\n",
            "  ...\n",
            "    to  \n",
            "  ['...']\n"
          ],
          "name": "stdout"
        },
        {
          "output_type": "execute_result",
          "data": {
            "text/plain": [
              "[0.6032762706279755, 0.75663716]"
            ]
          },
          "metadata": {
            "tags": []
          },
          "execution_count": 15
        }
      ]
    },
    {
      "cell_type": "markdown",
      "metadata": {
        "id": "NDLxWKmiwNzn",
        "colab_type": "text"
      },
      "source": [
        "# CONCLUSION\n",
        "\n",
        "For the result above, we can conclude that our model having a little bit of overfit, we can see from the datatrain we get accuracy about 88%. But when we try to evaluate using datatest (different data) we get accuracy about 75%."
      ]
    },
    {
      "cell_type": "code",
      "metadata": {
        "id": "QinXC85nIyD8",
        "colab_type": "code",
        "colab": {}
      },
      "source": [
        "model.save('/gdrive/My Drive/sisrec/model_1.h5')"
      ],
      "execution_count": 0,
      "outputs": []
    },
    {
      "cell_type": "markdown",
      "metadata": {
        "id": "BCLBE_MBmV2V",
        "colab_type": "text"
      },
      "source": [
        "## LET'S PREDICT"
      ]
    },
    {
      "cell_type": "code",
      "metadata": {
        "id": "v9TYYMumJIVn",
        "colab_type": "code",
        "colab": {}
      },
      "source": [
        "from tensorflow.keras.preprocessing.image import load_img\n",
        "import numpy as np"
      ],
      "execution_count": 0,
      "outputs": []
    },
    {
      "cell_type": "code",
      "metadata": {
        "id": "DBNpUiArQdi5",
        "colab_type": "code",
        "outputId": "c6a6464d-7f7f-4673-b3e9-d76d1b8da5b5",
        "colab": {
          "base_uri": "https://localhost:8080/",
          "height": 248
        }
      },
      "source": [
        "img = load_img('/gdrive/My Drive/Dataset Wajah/Novita/nop.jpg', target_size = im_size)\n",
        "plt.imshow(img)\n",
        "plt.axis('off')\n",
        "plt.show()"
      ],
      "execution_count": 26,
      "outputs": [
        {
          "output_type": "display_data",
          "data": {
            "image/png": "[encoded data removed]",
            "text/plain": [
              "<Figure size 432x288 with 1 Axes>"
            ]
          },
          "metadata": {
            "tags": [],
            "needs_background": "light"
          }
        }
      ]
    },
    {
      "cell_type": "code",
      "metadata": {
        "id": "VDDrljOyQpC1",
        "colab_type": "code",
        "outputId": "522a0484-3777-45e3-f656-82820d27e60e",
        "colab": {
          "base_uri": "https://localhost:8080/",
          "height": 34
        }
      },
      "source": [
        "img = np.array(img, dtype='float')\n",
        "img = img.reshape(1, 256, 256, 3)\n",
        "prediksi = model.predict(img)\n",
        "idx = np.argmax(prediksi)\n",
        "print(idx)"
      ],
      "execution_count": 27,
      "outputs": [
        {
          "output_type": "stream",
          "text": [
            "1\n"
          ],
          "name": "stdout"
        }
      ]
    },
    {
      "cell_type": "code",
      "metadata": {
        "id": "NzD0hsBeRiY6",
        "colab_type": "code",
        "outputId": "6cbfafc0-c0eb-43c4-e5fb-301de94c3d47",
        "colab": {
          "base_uri": "https://localhost:8080/",
          "height": 34
        }
      },
      "source": [
        "labels = [v for v in data_train.class_indices.keys()]\n",
        "print(\"Dia seorang\", labels[idx])"
      ],
      "execution_count": 28,
      "outputs": [
        {
          "output_type": "stream",
          "text": [
            "Dia seorang Perempuan\n"
          ],
          "name": "stdout"
        }
      ]
    }
  ]
}