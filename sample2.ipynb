{
  "nbformat": 4,
  "nbformat_minor": 0,
  "metadata": {
    "kernelspec": {
      "name": "python3",
      "display_name": "Python 3"
    },
    "language_info": {
      "codemirror_mode": {
        "name": "ipython",
        "version": 3
      },
      "file_extension": ".py",
      "mimetype": "text/x-python",
      "name": "python",
      "nbconvert_exporter": "python",
      "pygments_lexer": "ipython3",
      "version": "3.7.1"
    },
    "colab": {
      "name": "sample2.ipynb",
      "provenance": [],
      "collapsed_sections": [],
      "toc_visible": true
    },
    "accelerator": "GPU"
  },
  "cells": [
    {
      "cell_type": "code",
      "metadata": {
        "id": "XXMrKKXbbith",
        "colab_type": "code",
        "outputId": "aa81025c-2d54-4119-a13e-d780828f080f",
        "colab": {
          "base_uri": "https://localhost:8080/",
          "height": 632
        }
      },
      "source": [
        "!pip install tensorflow-gpu"
      ],
      "execution_count": 11,
      "outputs": [
        {
          "output_type": "stream",
          "text": [
            "Requirement already satisfied: tensorflow-gpu in /usr/local/lib/python3.6/dist-packages (2.1.0)\n",
            "Requirement already satisfied: wheel>=0.26; python_version >= \"3\" in /usr/local/lib/python3.6/dist-packages (from tensorflow-gpu) (0.34.2)\n",
            "Requirement already satisfied: gast==0.2.2 in /usr/local/lib/python3.6/dist-packages (from tensorflow-gpu) (0.2.2)\n",
            "Requirement already satisfied: keras-applications>=1.0.8 in /usr/local/lib/python3.6/dist-packages (from tensorflow-gpu) (1.0.8)\n",
            "Requirement already satisfied: wrapt>=1.11.1 in /usr/local/lib/python3.6/dist-packages (from tensorflow-gpu) (1.11.2)\n",
            "Requirement already satisfied: tensorflow-estimator<2.2.0,>=2.1.0rc0 in /usr/local/lib/python3.6/dist-packages (from tensorflow-gpu) (2.1.0)\n",
            "Requirement already satisfied: google-pasta>=0.1.6 in /usr/local/lib/python3.6/dist-packages (from tensorflow-gpu) (0.1.8)\n",
            "Requirement already satisfied: opt-einsum>=2.3.2 in /usr/local/lib/python3.6/dist-packages (from tensorflow-gpu) (3.1.0)\n",
            "Requirement already satisfied: numpy<2.0,>=1.16.0 in /usr/local/lib/python3.6/dist-packages (from tensorflow-gpu) (1.17.5)\n",
            "Requirement already satisfied: grpcio>=1.8.6 in /usr/local/lib/python3.6/dist-packages (from tensorflow-gpu) (1.27.1)\n",
            "Requirement already satisfied: astor>=0.6.0 in /usr/local/lib/python3.6/dist-packages (from tensorflow-gpu) (0.8.1)\n",
            "Requirement already satisfied: six>=1.12.0 in /usr/local/lib/python3.6/dist-packages (from tensorflow-gpu) (1.12.0)\n",
            "Requirement already satisfied: protobuf>=3.8.0 in /usr/local/lib/python3.6/dist-packages (from tensorflow-gpu) (3.10.0)\n",
            "Requirement already satisfied: absl-py>=0.7.0 in /usr/local/lib/python3.6/dist-packages (from tensorflow-gpu) (0.9.0)\n",
            "Requirement already satisfied: tensorboard<2.2.0,>=2.1.0 in /usr/local/lib/python3.6/dist-packages (from tensorflow-gpu) (2.1.0)\n",
            "Requirement already satisfied: termcolor>=1.1.0 in /usr/local/lib/python3.6/dist-packages (from tensorflow-gpu) (1.1.0)\n",
            "Requirement already satisfied: keras-preprocessing>=1.1.0 in /usr/local/lib/python3.6/dist-packages (from tensorflow-gpu) (1.1.0)\n",
            "Requirement already satisfied: scipy==1.4.1; python_version >= \"3\" in /usr/local/lib/python3.6/dist-packages (from tensorflow-gpu) (1.4.1)\n",
            "Requirement already satisfied: h5py in /usr/local/lib/python3.6/dist-packages (from keras-applications>=1.0.8->tensorflow-gpu) (2.8.0)\n",
            "Requirement already satisfied: setuptools in /usr/local/lib/python3.6/dist-packages (from protobuf>=3.8.0->tensorflow-gpu) (45.1.0)\n",
            "Requirement already satisfied: google-auth-oauthlib<0.5,>=0.4.1 in /usr/local/lib/python3.6/dist-packages (from tensorboard<2.2.0,>=2.1.0->tensorflow-gpu) (0.4.1)\n",
            "Requirement already satisfied: werkzeug>=0.11.15 in /usr/local/lib/python3.6/dist-packages (from tensorboard<2.2.0,>=2.1.0->tensorflow-gpu) (1.0.0)\n",
            "Requirement already satisfied: requests<3,>=2.21.0 in /usr/local/lib/python3.6/dist-packages (from tensorboard<2.2.0,>=2.1.0->tensorflow-gpu) (2.21.0)\n",
            "Requirement already satisfied: markdown>=2.6.8 in /usr/local/lib/python3.6/dist-packages (from tensorboard<2.2.0,>=2.1.0->tensorflow-gpu) (3.2.1)\n",
            "Requirement already satisfied: google-auth<2,>=1.6.3 in /usr/local/lib/python3.6/dist-packages (from tensorboard<2.2.0,>=2.1.0->tensorflow-gpu) (1.7.2)\n",
            "Requirement already satisfied: requests-oauthlib>=0.7.0 in /usr/local/lib/python3.6/dist-packages (from google-auth-oauthlib<0.5,>=0.4.1->tensorboard<2.2.0,>=2.1.0->tensorflow-gpu) (1.3.0)\n",
            "Requirement already satisfied: urllib3<1.25,>=1.21.1 in /usr/local/lib/python3.6/dist-packages (from requests<3,>=2.21.0->tensorboard<2.2.0,>=2.1.0->tensorflow-gpu) (1.24.3)\n",
            "Requirement already satisfied: certifi>=2017.4.17 in /usr/local/lib/python3.6/dist-packages (from requests<3,>=2.21.0->tensorboard<2.2.0,>=2.1.0->tensorflow-gpu) (2019.11.28)\n",
            "Requirement already satisfied: chardet<3.1.0,>=3.0.2 in /usr/local/lib/python3.6/dist-packages (from requests<3,>=2.21.0->tensorboard<2.2.0,>=2.1.0->tensorflow-gpu) (3.0.4)\n",
            "Requirement already satisfied: idna<2.9,>=2.5 in /usr/local/lib/python3.6/dist-packages (from requests<3,>=2.21.0->tensorboard<2.2.0,>=2.1.0->tensorflow-gpu) (2.8)\n",
            "Requirement already satisfied: cachetools<3.2,>=2.0.0 in /usr/local/lib/python3.6/dist-packages (from google-auth<2,>=1.6.3->tensorboard<2.2.0,>=2.1.0->tensorflow-gpu) (3.1.1)\n",
            "Requirement already satisfied: pyasn1-modules>=0.2.1 in /usr/local/lib/python3.6/dist-packages (from google-auth<2,>=1.6.3->tensorboard<2.2.0,>=2.1.0->tensorflow-gpu) (0.2.8)\n",
            "Requirement already satisfied: rsa<4.1,>=3.1.4 in /usr/local/lib/python3.6/dist-packages (from google-auth<2,>=1.6.3->tensorboard<2.2.0,>=2.1.0->tensorflow-gpu) (4.0)\n",
            "Requirement already satisfied: oauthlib>=3.0.0 in /usr/local/lib/python3.6/dist-packages (from requests-oauthlib>=0.7.0->google-auth-oauthlib<0.5,>=0.4.1->tensorboard<2.2.0,>=2.1.0->tensorflow-gpu) (3.1.0)\n",
            "Requirement already satisfied: pyasn1<0.5.0,>=0.4.6 in /usr/local/lib/python3.6/dist-packages (from pyasn1-modules>=0.2.1->google-auth<2,>=1.6.3->tensorboard<2.2.0,>=2.1.0->tensorflow-gpu) (0.4.8)\n"
          ],
          "name": "stdout"
        }
      ]
    },
    {
      "cell_type": "code",
      "metadata": {
        "id": "G-iNc6SNbspi",
        "colab_type": "code",
        "outputId": "4be7d58f-f076-4a06-f636-8ede111ad4d9",
        "colab": {
          "base_uri": "https://localhost:8080/",
          "height": 34
        }
      },
      "source": [
        "from google.colab import drive\n",
        "drive.mount('/gdrive')"
      ],
      "execution_count": 12,
      "outputs": [
        {
          "output_type": "stream",
          "text": [
            "Drive already mounted at /gdrive; to attempt to forcibly remount, call drive.mount(\"/gdrive\", force_remount=True).\n"
          ],
          "name": "stdout"
        }
      ]
    },
    {
      "cell_type": "code",
      "metadata": {
        "id": "rHbqgJMUS0UX",
        "colab_type": "code",
        "colab": {}
      },
      "source": [
        "import tensorflow as tf\n",
        "import cv2\n",
        "import matplotlib.pyplot as plt\n",
        "from tensorflow.keras.layers import *\n",
        "from tensorflow.keras.preprocessing.image import ImageDataGenerator\n",
        "%matplotlib inline\n",
        "import os"
      ],
      "execution_count": 0,
      "outputs": []
    },
    {
      "cell_type": "code",
      "metadata": {
        "id": "nfwkVxPQcGVh",
        "colab_type": "code",
        "colab": {}
      },
      "source": [
        "url_train = '/gdrive/My Drive/sisrec/training'\n",
        "url_test = '/gdrive/My Drive/sisrec/test'"
      ],
      "execution_count": 0,
      "outputs": []
    },
    {
      "cell_type": "code",
      "metadata": {
        "id": "l4V6cotC1oTZ",
        "colab_type": "code",
        "colab": {
          "base_uri": "https://localhost:8080/",
          "height": 34
        },
        "outputId": "f3f64155-6817-4e1a-d721-455843778a08"
      },
      "source": [
        "url_train"
      ],
      "execution_count": 15,
      "outputs": [
        {
          "output_type": "execute_result",
          "data": {
            "text/plain": [
              "'/gdrive/My Drive/sisrec/training'"
            ]
          },
          "metadata": {
            "tags": []
          },
          "execution_count": 15
        }
      ]
    },
    {
      "cell_type": "code",
      "metadata": {
        "id": "9U5FVlclS0Ug",
        "colab_type": "code",
        "colab": {}
      },
      "source": [
        "im_size = (256, 256)\n",
        "im_size2 = (256, 256, 3)"
      ],
      "execution_count": 0,
      "outputs": []
    },
    {
      "cell_type": "code",
      "metadata": {
        "id": "UwPXiL73cyz6",
        "colab_type": "code",
        "colab": {}
      },
      "source": [
        "from tensorflow.keras import Sequential"
      ],
      "execution_count": 0,
      "outputs": []
    },
    {
      "cell_type": "code",
      "metadata": {
        "id": "QmWlmLB1S0Uj",
        "colab_type": "code",
        "outputId": "3dbbbfb9-ba45-4048-8f1f-add0f9676503",
        "colab": {
          "base_uri": "https://localhost:8080/",
          "height": 34
        }
      },
      "source": [
        "datagen = ImageDataGenerator(\n",
        "    rescale = 1./255,\n",
        "    width_shift_range = 0.2, height_shift_range = 0.2,\n",
        "    zoom_range = 0.2\n",
        ")\n",
        "# Gvfet data from folder\n",
        "data_train = datagen.flow_from_directory(url_train,\n",
        "                                         target_size = im_size,\n",
        "                                         batch_size = 300,\n",
        "                                         class_mode = 'categorical'\n",
        "                                         )\n",
        "\n"
      ],
      "execution_count": 18,
      "outputs": [
        {
          "output_type": "stream",
          "text": [
            "Found 3491 images belonging to 4 classes.\n"
          ],
          "name": "stdout"
        }
      ]
    },
    {
      "cell_type": "code",
      "metadata": {
        "id": "tGLWVSz5S0Um",
        "colab_type": "code",
        "outputId": "b1020b0b-5bed-48d4-fe0c-a0ab44b9a31f",
        "colab": {
          "base_uri": "https://localhost:8080/",
          "height": 34
        }
      },
      "source": [
        "data_train.class_indices"
      ],
      "execution_count": 19,
      "outputs": [
        {
          "output_type": "execute_result",
          "data": {
            "text/plain": [
              "{'bus': 0, 'car': 1, 'cats': 2, 'dogs': 3}"
            ]
          },
          "metadata": {
            "tags": []
          },
          "execution_count": 19
        }
      ]
    },
    {
      "cell_type": "code",
      "metadata": {
        "id": "c7zztgyWS0Us",
        "colab_type": "code",
        "colab": {}
      },
      "source": [
        "model = Sequential([\n",
        "        Conv2D(32, 3, padding = 'same', activation = 'relu', input_shape = im_size2),\n",
        "        Conv2D(32, 3, padding = 'same', activation = 'relu'),\n",
        "        MaxPool2D(),                                            \n",
        "        Conv2D(64, 3, padding = 'same', activation = 'relu'),\n",
        "        Conv2D(64, 3, padding = 'same', activation = 'relu'),\n",
        "        MaxPool2D(),                                            \n",
        "        Conv2D(128, 3, padding = 'same', activation = 'relu'),\n",
        "        Conv2D(128, 3, padding = 'same', activation = 'relu'),\n",
        "        MaxPool2D(),\n",
        "        Conv2D(256, 3, padding = 'same', activation = 'relu'),\n",
        "        Conv2D(256, 3, padding = 'same', activation = 'relu'),\n",
        "        # MaxPool2D(),\n",
        "        # Conv2D(512, 3, padding = 'same', activation = 'relu'),\n",
        "        # Conv2D(512, 3, padding = 'same', activation = 'relu'),\n",
        "        GlobalAveragePooling2D(),\n",
        "        Dense(500, activation='relu'),\n",
        "        Dropout(0.5),\n",
        "        Dense(data_train.num_classes, activation='softmax')\n",
        "])\n",
        "\n",
        "model.compile(loss='categorical_crossentropy', optimizer='adam', metrics=['accuracy'])"
      ],
      "execution_count": 0,
      "outputs": []
    },
    {
      "cell_type": "code",
      "metadata": {
        "id": "oHm-mGvAS0Uv",
        "colab_type": "code",
        "outputId": "2eccdb32-0329-43d2-b85f-035c3faaaa18",
        "colab": {
          "base_uri": "https://localhost:8080/",
          "height": 1000
        }
      },
      "source": [
        "history = model.fit_generator(data_train, epochs = 75)"
      ],
      "execution_count": 26,
      "outputs": [
        {
          "output_type": "stream",
          "text": [
            "WARNING:tensorflow:sample_weight modes were coerced from\n",
            "  ...\n",
            "    to  \n",
            "  ['...']\n",
            "Train for 12 steps\n",
            "Epoch 1/75\n",
            "12/12 [==============================] - 1504s 125s/step - loss: 1.3646 - accuracy: 0.2873\n",
            "Epoch 2/75\n",
            "12/12 [==============================] - 60s 5s/step - loss: 1.3091 - accuracy: 0.3225\n",
            "Epoch 3/75\n",
            "12/12 [==============================] - 58s 5s/step - loss: 1.1753 - accuracy: 0.3973\n",
            "Epoch 4/75\n",
            "12/12 [==============================] - 58s 5s/step - loss: 1.0301 - accuracy: 0.4586\n",
            "Epoch 5/75\n",
            "12/12 [==============================] - 57s 5s/step - loss: 0.9481 - accuracy: 0.4689\n",
            "Epoch 6/75\n",
            "12/12 [==============================] - 57s 5s/step - loss: 0.9351 - accuracy: 0.4801\n",
            "Epoch 7/75\n",
            "12/12 [==============================] - 57s 5s/step - loss: 0.9237 - accuracy: 0.4927\n",
            "Epoch 8/75\n",
            "12/12 [==============================] - 56s 5s/step - loss: 0.9156 - accuracy: 0.4821\n",
            "Epoch 9/75\n",
            "12/12 [==============================] - 56s 5s/step - loss: 0.8967 - accuracy: 0.4870\n",
            "Epoch 10/75\n",
            "12/12 [==============================] - 56s 5s/step - loss: 0.8980 - accuracy: 0.4924\n",
            "Epoch 11/75\n",
            "12/12 [==============================] - 56s 5s/step - loss: 0.9117 - accuracy: 0.4875\n",
            "Epoch 12/75\n",
            "12/12 [==============================] - 56s 5s/step - loss: 0.8917 - accuracy: 0.5039\n",
            "Epoch 13/75\n",
            "12/12 [==============================] - 56s 5s/step - loss: 0.8735 - accuracy: 0.5139\n",
            "Epoch 14/75\n",
            "12/12 [==============================] - 56s 5s/step - loss: 0.8666 - accuracy: 0.5276\n",
            "Epoch 15/75\n",
            "12/12 [==============================] - 56s 5s/step - loss: 0.8480 - accuracy: 0.5268\n",
            "Epoch 16/75\n",
            "12/12 [==============================] - 56s 5s/step - loss: 0.8426 - accuracy: 0.5357\n",
            "Epoch 17/75\n",
            "12/12 [==============================] - 56s 5s/step - loss: 0.8347 - accuracy: 0.5385\n",
            "Epoch 18/75\n",
            "12/12 [==============================] - 57s 5s/step - loss: 0.8165 - accuracy: 0.5603\n",
            "Epoch 19/75\n",
            "12/12 [==============================] - 56s 5s/step - loss: 0.7935 - accuracy: 0.5786\n",
            "Epoch 20/75\n",
            "12/12 [==============================] - 57s 5s/step - loss: 0.7828 - accuracy: 0.5872\n",
            "Epoch 21/75\n",
            "12/12 [==============================] - 56s 5s/step - loss: 0.7749 - accuracy: 0.6104\n",
            "Epoch 22/75\n",
            "12/12 [==============================] - 55s 5s/step - loss: 0.7678 - accuracy: 0.6164\n",
            "Epoch 23/75\n",
            "12/12 [==============================] - 55s 5s/step - loss: 0.7484 - accuracy: 0.6139\n",
            "Epoch 24/75\n",
            "12/12 [==============================] - 55s 5s/step - loss: 0.7273 - accuracy: 0.6382\n",
            "Epoch 25/75\n",
            "12/12 [==============================] - 56s 5s/step - loss: 0.7051 - accuracy: 0.6396\n",
            "Epoch 26/75\n",
            "12/12 [==============================] - 55s 5s/step - loss: 0.6760 - accuracy: 0.6608\n",
            "Epoch 27/75\n",
            "12/12 [==============================] - 56s 5s/step - loss: 0.6511 - accuracy: 0.6835\n",
            "Epoch 28/75\n",
            "12/12 [==============================] - 56s 5s/step - loss: 0.6446 - accuracy: 0.6886\n",
            "Epoch 29/75\n",
            "12/12 [==============================] - 56s 5s/step - loss: 0.6528 - accuracy: 0.6892\n",
            "Epoch 30/75\n",
            "12/12 [==============================] - 55s 5s/step - loss: 0.6271 - accuracy: 0.7012\n",
            "Epoch 31/75\n",
            "12/12 [==============================] - 56s 5s/step - loss: 0.6690 - accuracy: 0.6835\n",
            "Epoch 32/75\n",
            "12/12 [==============================] - 56s 5s/step - loss: 0.6271 - accuracy: 0.7064\n",
            "Epoch 33/75\n",
            "12/12 [==============================] - 56s 5s/step - loss: 0.6073 - accuracy: 0.7087\n",
            "Epoch 34/75\n",
            "12/12 [==============================] - 56s 5s/step - loss: 0.5909 - accuracy: 0.7190\n",
            "Epoch 35/75\n",
            "12/12 [==============================] - 55s 5s/step - loss: 0.5794 - accuracy: 0.7279\n",
            "Epoch 36/75\n",
            "12/12 [==============================] - 55s 5s/step - loss: 0.5910 - accuracy: 0.7135\n",
            "Epoch 37/75\n",
            "12/12 [==============================] - 56s 5s/step - loss: 0.6005 - accuracy: 0.7170\n",
            "Epoch 38/75\n",
            "12/12 [==============================] - 56s 5s/step - loss: 0.5691 - accuracy: 0.7468\n",
            "Epoch 39/75\n",
            "12/12 [==============================] - 56s 5s/step - loss: 0.5613 - accuracy: 0.7436\n",
            "Epoch 40/75\n",
            "12/12 [==============================] - 56s 5s/step - loss: 0.5600 - accuracy: 0.7410\n",
            "Epoch 41/75\n",
            "12/12 [==============================] - 55s 5s/step - loss: 0.5458 - accuracy: 0.7528\n",
            "Epoch 42/75\n",
            "12/12 [==============================] - 56s 5s/step - loss: 0.5365 - accuracy: 0.7554\n",
            "Epoch 43/75\n",
            "12/12 [==============================] - 56s 5s/step - loss: 0.4988 - accuracy: 0.7783\n",
            "Epoch 44/75\n",
            "12/12 [==============================] - 56s 5s/step - loss: 0.5414 - accuracy: 0.7502\n",
            "Epoch 45/75\n",
            "12/12 [==============================] - 55s 5s/step - loss: 0.5042 - accuracy: 0.7714\n",
            "Epoch 46/75\n",
            "12/12 [==============================] - 55s 5s/step - loss: 0.4953 - accuracy: 0.7877\n",
            "Epoch 47/75\n",
            "12/12 [==============================] - 55s 5s/step - loss: 0.4783 - accuracy: 0.7880\n",
            "Epoch 48/75\n",
            "12/12 [==============================] - 56s 5s/step - loss: 0.4708 - accuracy: 0.7952\n",
            "Epoch 49/75\n",
            "12/12 [==============================] - 55s 5s/step - loss: 0.4946 - accuracy: 0.7809\n",
            "Epoch 50/75\n",
            "12/12 [==============================] - 56s 5s/step - loss: 0.4945 - accuracy: 0.7740\n",
            "Epoch 51/75\n",
            "12/12 [==============================] - 56s 5s/step - loss: 0.4648 - accuracy: 0.7995\n",
            "Epoch 52/75\n",
            "12/12 [==============================] - 56s 5s/step - loss: 0.4632 - accuracy: 0.7897\n",
            "Epoch 53/75\n",
            "12/12 [==============================] - 56s 5s/step - loss: 0.4388 - accuracy: 0.8084\n",
            "Epoch 54/75\n",
            "12/12 [==============================] - 56s 5s/step - loss: 0.4407 - accuracy: 0.8049\n",
            "Epoch 55/75\n",
            "12/12 [==============================] - 56s 5s/step - loss: 0.4444 - accuracy: 0.8055\n",
            "Epoch 56/75\n",
            "12/12 [==============================] - 56s 5s/step - loss: 0.4322 - accuracy: 0.8167\n",
            "Epoch 57/75\n",
            "12/12 [==============================] - 56s 5s/step - loss: 0.4043 - accuracy: 0.8310\n",
            "Epoch 58/75\n",
            "12/12 [==============================] - 56s 5s/step - loss: 0.3982 - accuracy: 0.8270\n",
            "Epoch 59/75\n",
            "12/12 [==============================] - 56s 5s/step - loss: 0.4233 - accuracy: 0.8175\n",
            "Epoch 60/75\n",
            "12/12 [==============================] - 56s 5s/step - loss: 0.4025 - accuracy: 0.8273\n",
            "Epoch 61/75\n",
            "12/12 [==============================] - 56s 5s/step - loss: 0.4044 - accuracy: 0.8204\n",
            "Epoch 62/75\n",
            "12/12 [==============================] - 56s 5s/step - loss: 0.3964 - accuracy: 0.8198\n",
            "Epoch 63/75\n",
            "12/12 [==============================] - 55s 5s/step - loss: 0.3978 - accuracy: 0.8353\n",
            "Epoch 64/75\n",
            "12/12 [==============================] - 55s 5s/step - loss: 0.4075 - accuracy: 0.8247\n",
            "Epoch 65/75\n",
            "12/12 [==============================] - 56s 5s/step - loss: 0.4085 - accuracy: 0.8298\n",
            "Epoch 66/75\n",
            "12/12 [==============================] - 56s 5s/step - loss: 0.3891 - accuracy: 0.8247\n",
            "Epoch 67/75\n",
            "12/12 [==============================] - 56s 5s/step - loss: 0.3731 - accuracy: 0.8425\n",
            "Epoch 68/75\n",
            "12/12 [==============================] - 56s 5s/step - loss: 0.3808 - accuracy: 0.8410\n",
            "Epoch 69/75\n",
            "12/12 [==============================] - 56s 5s/step - loss: 0.3541 - accuracy: 0.8533\n",
            "Epoch 70/75\n",
            "12/12 [==============================] - 56s 5s/step - loss: 0.3421 - accuracy: 0.8519\n",
            "Epoch 71/75\n",
            "12/12 [==============================] - 56s 5s/step - loss: 0.3556 - accuracy: 0.8410\n",
            "Epoch 72/75\n",
            "12/12 [==============================] - 56s 5s/step - loss: 0.3581 - accuracy: 0.8436\n",
            "Epoch 73/75\n",
            "12/12 [==============================] - 56s 5s/step - loss: 0.3383 - accuracy: 0.8591\n",
            "Epoch 74/75\n",
            "12/12 [==============================] - 56s 5s/step - loss: 0.3130 - accuracy: 0.8705\n",
            "Epoch 75/75\n",
            "12/12 [==============================] - 55s 5s/step - loss: 0.3354 - accuracy: 0.8479\n"
          ],
          "name": "stdout"
        }
      ]
    },
    {
      "cell_type": "markdown",
      "metadata": {
        "id": "krQ_Cx9OOnEh",
        "colab_type": "text"
      },
      "source": [
        "## Train dilakukan 2 kali"
      ]
    },
    {
      "cell_type": "code",
      "metadata": {
        "id": "2aNFXZ6KS0U0",
        "colab_type": "code",
        "outputId": "15f8de6f-e851-4627-eb5b-fe9cf4ecde57",
        "colab": {
          "base_uri": "https://localhost:8080/",
          "height": 663
        }
      },
      "source": [
        "model.summary()"
      ],
      "execution_count": 27,
      "outputs": [
        {
          "output_type": "stream",
          "text": [
            "Model: \"sequential_2\"\n",
            "_________________________________________________________________\n",
            "Layer (type)                 Output Shape              Param #   \n",
            "=================================================================\n",
            "conv2d_20 (Conv2D)           (None, 256, 256, 32)      896       \n",
            "_________________________________________________________________\n",
            "conv2d_21 (Conv2D)           (None, 256, 256, 32)      9248      \n",
            "_________________________________________________________________\n",
            "max_pooling2d_8 (MaxPooling2 (None, 128, 128, 32)      0         \n",
            "_________________________________________________________________\n",
            "conv2d_22 (Conv2D)           (None, 128, 128, 64)      18496     \n",
            "_________________________________________________________________\n",
            "conv2d_23 (Conv2D)           (None, 128, 128, 64)      36928     \n",
            "_________________________________________________________________\n",
            "max_pooling2d_9 (MaxPooling2 (None, 64, 64, 64)        0         \n",
            "_________________________________________________________________\n",
            "conv2d_24 (Conv2D)           (None, 64, 64, 128)       73856     \n",
            "_________________________________________________________________\n",
            "conv2d_25 (Conv2D)           (None, 64, 64, 128)       147584    \n",
            "_________________________________________________________________\n",
            "max_pooling2d_10 (MaxPooling (None, 32, 32, 128)       0         \n",
            "_________________________________________________________________\n",
            "conv2d_26 (Conv2D)           (None, 32, 32, 256)       295168    \n",
            "_________________________________________________________________\n",
            "conv2d_27 (Conv2D)           (None, 32, 32, 256)       590080    \n",
            "_________________________________________________________________\n",
            "global_average_pooling2d_2 ( (None, 256)               0         \n",
            "_________________________________________________________________\n",
            "dense_4 (Dense)              (None, 500)               128500    \n",
            "_________________________________________________________________\n",
            "dropout_2 (Dropout)          (None, 500)               0         \n",
            "_________________________________________________________________\n",
            "dense_5 (Dense)              (None, 4)                 2004      \n",
            "=================================================================\n",
            "Total params: 1,302,760\n",
            "Trainable params: 1,302,760\n",
            "Non-trainable params: 0\n",
            "_________________________________________________________________\n"
          ],
          "name": "stdout"
        }
      ]
    },
    {
      "cell_type": "code",
      "metadata": {
        "id": "BlwKhi1GfkV6",
        "colab_type": "code",
        "outputId": "0f088e6f-ff9a-4cd2-8436-71cab9b8bb0e",
        "colab": {
          "base_uri": "https://localhost:8080/",
          "height": 173
        }
      },
      "source": [
        "model.evaluate_generator(data_train)"
      ],
      "execution_count": 28,
      "outputs": [
        {
          "output_type": "stream",
          "text": [
            "WARNING:tensorflow:From <ipython-input-28-f87239d83d67>:1: Model.evaluate_generator (from tensorflow.python.keras.engine.training) is deprecated and will be removed in a future version.\n",
            "Instructions for updating:\n",
            "Please use Model.evaluate, which supports generators.\n",
            "WARNING:tensorflow:sample_weight modes were coerced from\n",
            "  ...\n",
            "    to  \n",
            "  ['...']\n"
          ],
          "name": "stdout"
        },
        {
          "output_type": "execute_result",
          "data": {
            "text/plain": [
              "[0.28583859528104466, 0.88054997]"
            ]
          },
          "metadata": {
            "tags": []
          },
          "execution_count": 28
        }
      ]
    },
    {
      "cell_type": "code",
      "metadata": {
        "id": "QinXC85nIyD8",
        "colab_type": "code",
        "colab": {}
      },
      "source": [
        "model.save('model_new.h5')"
      ],
      "execution_count": 0,
      "outputs": []
    },
    {
      "cell_type": "code",
      "metadata": {
        "id": "IzZUO7_819dw",
        "colab_type": "code",
        "colab": {
          "base_uri": "https://localhost:8080/",
          "height": 340
        },
        "outputId": "c3909981-cbb7-4229-c268-36cee8ae931f"
      },
      "source": [
        "from tensorflow.keras.models import load_model\n",
        "\n",
        "model = load_model('model_new.h5')"
      ],
      "execution_count": 22,
      "outputs": [
        {
          "output_type": "error",
          "ename": "OSError",
          "evalue": "ignored",
          "traceback": [
            "\u001b[0;31m---------------------------------------------------------------------------\u001b[0m",
            "\u001b[0;31mOSError\u001b[0m                                   Traceback (most recent call last)",
            "\u001b[0;32m<ipython-input-22-769a626d4ba4>\u001b[0m in \u001b[0;36m<module>\u001b[0;34m()\u001b[0m\n\u001b[1;32m      1\u001b[0m \u001b[0;32mfrom\u001b[0m \u001b[0mtensorflow\u001b[0m\u001b[0;34m.\u001b[0m\u001b[0mkeras\u001b[0m\u001b[0;34m.\u001b[0m\u001b[0mmodels\u001b[0m \u001b[0;32mimport\u001b[0m \u001b[0mload_model\u001b[0m\u001b[0;34m\u001b[0m\u001b[0;34m\u001b[0m\u001b[0m\n\u001b[1;32m      2\u001b[0m \u001b[0;34m\u001b[0m\u001b[0m\n\u001b[0;32m----> 3\u001b[0;31m \u001b[0mmodel\u001b[0m \u001b[0;34m=\u001b[0m \u001b[0mload_model\u001b[0m\u001b[0;34m(\u001b[0m\u001b[0;34m'model_new.h5.h5'\u001b[0m\u001b[0;34m)\u001b[0m\u001b[0;34m\u001b[0m\u001b[0;34m\u001b[0m\u001b[0m\n\u001b[0m",
            "\u001b[0;32m/usr/local/lib/python3.6/dist-packages/tensorflow_core/python/keras/saving/save.py\u001b[0m in \u001b[0;36mload_model\u001b[0;34m(filepath, custom_objects, compile)\u001b[0m\n\u001b[1;32m    147\u001b[0m \u001b[0;34m\u001b[0m\u001b[0m\n\u001b[1;32m    148\u001b[0m   \u001b[0;32mif\u001b[0m \u001b[0misinstance\u001b[0m\u001b[0;34m(\u001b[0m\u001b[0mfilepath\u001b[0m\u001b[0;34m,\u001b[0m \u001b[0msix\u001b[0m\u001b[0;34m.\u001b[0m\u001b[0mstring_types\u001b[0m\u001b[0;34m)\u001b[0m\u001b[0;34m:\u001b[0m\u001b[0;34m\u001b[0m\u001b[0;34m\u001b[0m\u001b[0m\n\u001b[0;32m--> 149\u001b[0;31m     \u001b[0mloader_impl\u001b[0m\u001b[0;34m.\u001b[0m\u001b[0mparse_saved_model\u001b[0m\u001b[0;34m(\u001b[0m\u001b[0mfilepath\u001b[0m\u001b[0;34m)\u001b[0m\u001b[0;34m\u001b[0m\u001b[0;34m\u001b[0m\u001b[0m\n\u001b[0m\u001b[1;32m    150\u001b[0m     \u001b[0;32mreturn\u001b[0m \u001b[0msaved_model_load\u001b[0m\u001b[0;34m.\u001b[0m\u001b[0mload\u001b[0m\u001b[0;34m(\u001b[0m\u001b[0mfilepath\u001b[0m\u001b[0;34m,\u001b[0m \u001b[0mcompile\u001b[0m\u001b[0;34m)\u001b[0m\u001b[0;34m\u001b[0m\u001b[0;34m\u001b[0m\u001b[0m\n\u001b[1;32m    151\u001b[0m \u001b[0;34m\u001b[0m\u001b[0m\n",
            "\u001b[0;32m/usr/local/lib/python3.6/dist-packages/tensorflow_core/python/saved_model/loader_impl.py\u001b[0m in \u001b[0;36mparse_saved_model\u001b[0;34m(export_dir)\u001b[0m\n\u001b[1;32m     81\u001b[0m                   (export_dir,\n\u001b[1;32m     82\u001b[0m                    \u001b[0mconstants\u001b[0m\u001b[0;34m.\u001b[0m\u001b[0mSAVED_MODEL_FILENAME_PBTXT\u001b[0m\u001b[0;34m,\u001b[0m\u001b[0;34m\u001b[0m\u001b[0;34m\u001b[0m\u001b[0m\n\u001b[0;32m---> 83\u001b[0;31m                    constants.SAVED_MODEL_FILENAME_PB))\n\u001b[0m\u001b[1;32m     84\u001b[0m \u001b[0;34m\u001b[0m\u001b[0m\n\u001b[1;32m     85\u001b[0m \u001b[0;34m\u001b[0m\u001b[0m\n",
            "\u001b[0;31mOSError\u001b[0m: SavedModel file does not exist at: model_new.h5.h5/{saved_model.pbtxt|saved_model.pb}"
          ]
        }
      ]
    },
    {
      "cell_type": "code",
      "metadata": {
        "id": "v9TYYMumJIVn",
        "colab_type": "code",
        "colab": {}
      },
      "source": [
        "from tensorflow.keras.preprocessing.image import load_img\n",
        "import numpy as np"
      ],
      "execution_count": 0,
      "outputs": []
    },
    {
      "cell_type": "code",
      "metadata": {
        "id": "DBNpUiArQdi5",
        "colab_type": "code",
        "outputId": "28dc846d-cea5-4576-cf43-1dd204a73c36",
        "colab": {
          "base_uri": "https://localhost:8080/",
          "height": 248
        }
      },
      "source": [
        "img = load_img('/gdrive/My Drive/sisrec/test/bus/images-324.jpeg', target_size = im_size)\n",
        "plt.imshow(img)\n",
        "plt.axis('off')\n",
        "plt.show()"
      ],
      "execution_count": 52,
      "outputs": [
        {
          "output_type": "display_data",
          "data": {
            "image/png": "[encoded data removed]",
            "text/plain": [
              "<Figure size 432x288 with 1 Axes>"
            ]
          },
          "metadata": {
            "tags": []
          }
        }
      ]
    },
    {
      "cell_type": "code",
      "metadata": {
        "id": "VDDrljOyQpC1",
        "colab_type": "code",
        "outputId": "b42b8340-62f2-453d-d9f9-e1e2a7d88f4c",
        "colab": {
          "base_uri": "https://localhost:8080/",
          "height": 34
        }
      },
      "source": [
        "img = np.array(img, dtype='float')\n",
        "img = img.reshape(1, 256, 256, 3)\n",
        "prediksi = model.predict(img)\n",
        "idx = np.argmax(prediksi)\n",
        "print(idx)"
      ],
      "execution_count": 53,
      "outputs": [
        {
          "output_type": "stream",
          "text": [
            "0\n"
          ],
          "name": "stdout"
        }
      ]
    },
    {
      "cell_type": "code",
      "metadata": {
        "id": "NzD0hsBeRiY6",
        "colab_type": "code",
        "outputId": "c81769df-0e46-4c16-b948-e4b15af61445",
        "colab": {
          "base_uri": "https://localhost:8080/",
          "height": 34
        }
      },
      "source": [
        "labels = [v for v in data_train.class_indices.keys()]\n",
        "print(\"It is a \", labels[idx])"
      ],
      "execution_count": 54,
      "outputs": [
        {
          "output_type": "stream",
          "text": [
            "It is a  bus\n"
          ],
          "name": "stdout"
        }
      ]
    }
  ]
}